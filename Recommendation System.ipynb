{
 "cells": [
  {
   "cell_type": "code",
   "execution_count": 1,
   "metadata": {
    "id": "VZa8FrsWGJ57"
   },
   "outputs": [],
   "source": [
    "import numpy as np\n",
    "from numpy import genfromtxt\n",
    "from collections import defaultdict\n",
    "import csv\n",
    "import numpy.ma as ma\n",
    "import pandas as pd\n",
    "import tensorflow as tf\n",
    "from tensorflow import keras\n",
    "from sklearn.preprocessing import StandardScaler, MinMaxScaler\n",
    "from sklearn.model_selection import train_test_split\n",
    "import tabulate\n",
    "pd.set_option(\"display.precision\", 1)\n",
    "import pickle\n"
   ]
  },
  {
   "cell_type": "code",
   "execution_count": 2,
   "metadata": {
    "colab": {
     "base_uri": "https://localhost:8080/",
     "height": 632
    },
    "id": "-JsAbvyiGMfB",
    "outputId": "857a5c54-23a2-4a31-ed40-a96373a0a6ac"
   },
   "outputs": [
    {
     "name": "stderr",
     "output_type": "stream",
     "text": [
      "C:\\Users\\salma\\AppData\\Local\\Temp\\ipykernel_15084\\3504774399.py:2: DtypeWarning: Columns (3) have mixed types. Specify dtype option on import or set low_memory=False.\n",
      "  comments = pd.read_csv(\"Data/comments.csv\")\n"
     ]
    },
    {
     "data": {
      "text/html": [
       "<div>\n",
       "<style scoped>\n",
       "    .dataframe tbody tr th:only-of-type {\n",
       "        vertical-align: middle;\n",
       "    }\n",
       "\n",
       "    .dataframe tbody tr th {\n",
       "        vertical-align: top;\n",
       "    }\n",
       "\n",
       "    .dataframe thead th {\n",
       "        text-align: right;\n",
       "    }\n",
       "</style>\n",
       "<table border=\"1\" class=\"dataframe\">\n",
       "  <thead>\n",
       "    <tr style=\"text-align: right;\">\n",
       "      <th></th>\n",
       "      <th>productname</th>\n",
       "      <th>productdescription</th>\n",
       "      <th>rating</th>\n",
       "      <th>sellerid</th>\n",
       "      <th>price</th>\n",
       "      <th>stock</th>\n",
       "      <th>image</th>\n",
       "      <th>category</th>\n",
       "    </tr>\n",
       "  </thead>\n",
       "  <tbody>\n",
       "    <tr>\n",
       "      <th>0</th>\n",
       "      <td>obat pembasmi pohon dan akar, racun pohon, sta...</td>\n",
       "      <td>Nufarm Starlon Herbisida Sistemik\\n\\nIsi : 100...</td>\n",
       "      <td>4.9</td>\n",
       "      <td>she-basmi</td>\n",
       "      <td>Rp38.000</td>\n",
       "      <td>96653</td>\n",
       "      <td>9a6345e2-6ae6-4a44-b7cd-042a0a0e6f8b</td>\n",
       "      <td>Pestisida dan Obat tanaman</td>\n",
       "    </tr>\n",
       "    <tr>\n",
       "      <th>1</th>\n",
       "      <td>100ml Pestisida Organik Neem Oil /Minyak Mimba...</td>\n",
       "      <td>Takaran 1 sendok utk 1 liter larutan siap paka...</td>\n",
       "      <td>4.9</td>\n",
       "      <td>Panda Farm</td>\n",
       "      <td>Rp25.500</td>\n",
       "      <td>91</td>\n",
       "      <td>58835cb1-a00a-437b-9132-35f538e6bae1</td>\n",
       "      <td>Pestisida dan Obat tanaman</td>\n",
       "    </tr>\n",
       "    <tr>\n",
       "      <th>2</th>\n",
       "      <td>Antracol Fungisida-Obat Jamur Tanaman 70WP-250gr</td>\n",
       "      <td>Isi : 250gr\\nExp : 01/25\\n\\nAntracol adalah fu...</td>\n",
       "      <td>4.9</td>\n",
       "      <td>benihkita</td>\n",
       "      <td>Rp49.550</td>\n",
       "      <td>33</td>\n",
       "      <td>3603111_2f32cce9-11e1-4106-8c35-ce50f50f69f3_7...</td>\n",
       "      <td>Pestisida dan Obat tanaman</td>\n",
       "    </tr>\n",
       "    <tr>\n",
       "      <th>3</th>\n",
       "      <td>DESTHIN obat hama tanaman, ulat, kutu putih, h...</td>\n",
       "      <td>kemasan 500ml\\n\\nsudah menggunakan spray baru,...</td>\n",
       "      <td>4.9</td>\n",
       "      <td>she-basmi</td>\n",
       "      <td>Rp35.000</td>\n",
       "      <td>95969</td>\n",
       "      <td>e6dc4ec2-d4be-4565-b2db-8e51b1624dc2</td>\n",
       "      <td>Pestisida dan Obat tanaman</td>\n",
       "    </tr>\n",
       "    <tr>\n",
       "      <th>4</th>\n",
       "      <td>herbisida obat pembasmi rumput liar, gulma, al...</td>\n",
       "      <td>Kemasan botol 500ml\\n\\nbotol rusak, bocor, spr...</td>\n",
       "      <td>4.9</td>\n",
       "      <td>she-basmi</td>\n",
       "      <td>Rp35.000</td>\n",
       "      <td>95886</td>\n",
       "      <td>618a27c5-a666-4d96-91b0-29f7d74fcc11</td>\n",
       "      <td>Pestisida dan Obat tanaman</td>\n",
       "    </tr>\n",
       "    <tr>\n",
       "      <th>...</th>\n",
       "      <td>...</td>\n",
       "      <td>...</td>\n",
       "      <td>...</td>\n",
       "      <td>...</td>\n",
       "      <td>...</td>\n",
       "      <td>...</td>\n",
       "      <td>...</td>\n",
       "      <td>...</td>\n",
       "    </tr>\n",
       "    <tr>\n",
       "      <th>144</th>\n",
       "      <td>ISKU Pressure Sprayer 1L/2L Botol Semprotan Ta...</td>\n",
       "      <td>ãTerima kasih atas kepercayaan dan dukungan ...</td>\n",
       "      <td>4.9</td>\n",
       "      <td>Isku Official Shop</td>\n",
       "      <td>3989000000</td>\n",
       "      <td>4250</td>\n",
       "      <td>id-11134207-7r98q-lvd27q0a7htx37</td>\n",
       "      <td>Alat dan Mesin Pertanian</td>\n",
       "    </tr>\n",
       "    <tr>\n",
       "      <th>145</th>\n",
       "      <td>ISKU Semprotan Rumput Sprayer 5L Dan Botol Sem...</td>\n",
       "      <td>ãTerima kasih atas kepercayaan dan dukungan ...</td>\n",
       "      <td>5.0</td>\n",
       "      <td>Isku Official Shop</td>\n",
       "      <td>12499000000</td>\n",
       "      <td>2439</td>\n",
       "      <td>id-11134207-7r98s-lwffeqkx4o3hb9</td>\n",
       "      <td>Alat dan Mesin Pertanian</td>\n",
       "    </tr>\n",
       "    <tr>\n",
       "      <th>146</th>\n",
       "      <td>[2PCS] ISKU Alat Semprot Tanaman 5L Dan Botol ...</td>\n",
       "      <td>ãTerima kasih atas kepercayaan dan dukungan ...</td>\n",
       "      <td>4.9</td>\n",
       "      <td>Isku Official Shop</td>\n",
       "      <td>15899000000</td>\n",
       "      <td>2284</td>\n",
       "      <td>id-11134207-7r98y-lwffeqkwdyqy6b</td>\n",
       "      <td>Alat dan Mesin Pertanian</td>\n",
       "    </tr>\n",
       "    <tr>\n",
       "      <th>147</th>\n",
       "      <td>ISKU Gunting Rumput Taman Gunting tanaman gunt...</td>\n",
       "      <td>ãTerima kasih atas kepercayaan dan dukungan ...</td>\n",
       "      <td>4.9</td>\n",
       "      <td>Isku Official Shop</td>\n",
       "      <td>9989000000</td>\n",
       "      <td>7909</td>\n",
       "      <td>sg-11134201-23010-4w2r3464n4lv74</td>\n",
       "      <td>Alat dan Mesin Pertanian</td>\n",
       "    </tr>\n",
       "    <tr>\n",
       "      <th>148</th>\n",
       "      <td>ISKU Gergaji Besi Multifungsi Adjustable Ukura...</td>\n",
       "      <td>ãTerima kasih atas kepercayaan dan dukungan ...</td>\n",
       "      <td>4.9</td>\n",
       "      <td>Isku Official Shop</td>\n",
       "      <td>4589000000</td>\n",
       "      <td>1284</td>\n",
       "      <td>id-11134207-7r98z-llg24cu1aezbc2</td>\n",
       "      <td>Alat dan Mesin Pertanian</td>\n",
       "    </tr>\n",
       "  </tbody>\n",
       "</table>\n",
       "<p>149 rows × 8 columns</p>\n",
       "</div>"
      ],
      "text/plain": [
       "                                           productname  \\\n",
       "0    obat pembasmi pohon dan akar, racun pohon, sta...   \n",
       "1    100ml Pestisida Organik Neem Oil /Minyak Mimba...   \n",
       "2     Antracol Fungisida-Obat Jamur Tanaman 70WP-250gr   \n",
       "3    DESTHIN obat hama tanaman, ulat, kutu putih, h...   \n",
       "4    herbisida obat pembasmi rumput liar, gulma, al...   \n",
       "..                                                 ...   \n",
       "144  ISKU Pressure Sprayer 1L/2L Botol Semprotan Ta...   \n",
       "145  ISKU Semprotan Rumput Sprayer 5L Dan Botol Sem...   \n",
       "146  [2PCS] ISKU Alat Semprot Tanaman 5L Dan Botol ...   \n",
       "147  ISKU Gunting Rumput Taman Gunting tanaman gunt...   \n",
       "148  ISKU Gergaji Besi Multifungsi Adjustable Ukura...   \n",
       "\n",
       "                                    productdescription  rating  \\\n",
       "0    Nufarm Starlon Herbisida Sistemik\\n\\nIsi : 100...     4.9   \n",
       "1    Takaran 1 sendok utk 1 liter larutan siap paka...     4.9   \n",
       "2    Isi : 250gr\\nExp : 01/25\\n\\nAntracol adalah fu...     4.9   \n",
       "3    kemasan 500ml\\n\\nsudah menggunakan spray baru,...     4.9   \n",
       "4    Kemasan botol 500ml\\n\\nbotol rusak, bocor, spr...     4.9   \n",
       "..                                                 ...     ...   \n",
       "144  ãTerima kasih atas kepercayaan dan dukungan ...     4.9   \n",
       "145  ãTerima kasih atas kepercayaan dan dukungan ...     5.0   \n",
       "146  ãTerima kasih atas kepercayaan dan dukungan ...     4.9   \n",
       "147  ãTerima kasih atas kepercayaan dan dukungan ...     4.9   \n",
       "148  ãTerima kasih atas kepercayaan dan dukungan ...     4.9   \n",
       "\n",
       "               sellerid        price  stock  \\\n",
       "0             she-basmi     Rp38.000  96653   \n",
       "1            Panda Farm     Rp25.500     91   \n",
       "2             benihkita     Rp49.550     33   \n",
       "3             she-basmi     Rp35.000  95969   \n",
       "4             she-basmi     Rp35.000  95886   \n",
       "..                  ...          ...    ...   \n",
       "144  Isku Official Shop   3989000000   4250   \n",
       "145  Isku Official Shop  12499000000   2439   \n",
       "146  Isku Official Shop  15899000000   2284   \n",
       "147  Isku Official Shop   9989000000   7909   \n",
       "148  Isku Official Shop   4589000000   1284   \n",
       "\n",
       "                                                 image  \\\n",
       "0                 9a6345e2-6ae6-4a44-b7cd-042a0a0e6f8b   \n",
       "1                 58835cb1-a00a-437b-9132-35f538e6bae1   \n",
       "2    3603111_2f32cce9-11e1-4106-8c35-ce50f50f69f3_7...   \n",
       "3                 e6dc4ec2-d4be-4565-b2db-8e51b1624dc2   \n",
       "4                 618a27c5-a666-4d96-91b0-29f7d74fcc11   \n",
       "..                                                 ...   \n",
       "144                   id-11134207-7r98q-lvd27q0a7htx37   \n",
       "145                   id-11134207-7r98s-lwffeqkx4o3hb9   \n",
       "146                   id-11134207-7r98y-lwffeqkwdyqy6b   \n",
       "147                   sg-11134201-23010-4w2r3464n4lv74   \n",
       "148                   id-11134207-7r98z-llg24cu1aezbc2   \n",
       "\n",
       "                       category  \n",
       "0    Pestisida dan Obat tanaman  \n",
       "1    Pestisida dan Obat tanaman  \n",
       "2    Pestisida dan Obat tanaman  \n",
       "3    Pestisida dan Obat tanaman  \n",
       "4    Pestisida dan Obat tanaman  \n",
       "..                          ...  \n",
       "144    Alat dan Mesin Pertanian  \n",
       "145    Alat dan Mesin Pertanian  \n",
       "146    Alat dan Mesin Pertanian  \n",
       "147    Alat dan Mesin Pertanian  \n",
       "148    Alat dan Mesin Pertanian  \n",
       "\n",
       "[149 rows x 8 columns]"
      ]
     },
     "execution_count": 2,
     "metadata": {},
     "output_type": "execute_result"
    }
   ],
   "source": [
    "items = pd.read_csv(\"Data/items.csv\")\n",
    "comments = pd.read_csv(\"Data/comments.csv\")\n",
    "items"
   ]
  },
  {
   "cell_type": "code",
   "execution_count": 3,
   "metadata": {
    "colab": {
     "base_uri": "https://localhost:8080/",
     "height": 424
    },
    "id": "G3nD6nwVHHBa",
    "outputId": "a2df754c-b2b3-4b80-c344-67c53d726926"
   },
   "outputs": [
    {
     "data": {
      "text/html": [
       "<div>\n",
       "<style scoped>\n",
       "    .dataframe tbody tr th:only-of-type {\n",
       "        vertical-align: middle;\n",
       "    }\n",
       "\n",
       "    .dataframe tbody tr th {\n",
       "        vertical-align: top;\n",
       "    }\n",
       "\n",
       "    .dataframe thead th {\n",
       "        text-align: right;\n",
       "    }\n",
       "</style>\n",
       "<table border=\"1\" class=\"dataframe\">\n",
       "  <thead>\n",
       "    <tr style=\"text-align: right;\">\n",
       "      <th></th>\n",
       "      <th>productid</th>\n",
       "      <th>productname</th>\n",
       "      <th>comment</th>\n",
       "      <th>rating</th>\n",
       "      <th>ratingangka</th>\n",
       "      <th>userid</th>\n",
       "      <th>user_id</th>\n",
       "      <th>category</th>\n",
       "    </tr>\n",
       "  </thead>\n",
       "  <tbody>\n",
       "    <tr>\n",
       "      <th>0</th>\n",
       "      <td>1</td>\n",
       "      <td>herbisida obat pembasmi rumput liar, gulma, al...</td>\n",
       "      <td>produknya bagus.  maka-nya aku beli lagi, nih....</td>\n",
       "      <td>bintang 5</td>\n",
       "      <td>5</td>\n",
       "      <td>1</td>\n",
       "      <td>Bambang</td>\n",
       "      <td>Pestisida &amp; Obat Pertanian</td>\n",
       "    </tr>\n",
       "    <tr>\n",
       "      <th>1</th>\n",
       "      <td>1</td>\n",
       "      <td>herbisida obat pembasmi rumput liar, gulma, al...</td>\n",
       "      <td>AKU SUKA PRODUKNYA.   MANJUR...!!!</td>\n",
       "      <td>bintang 5</td>\n",
       "      <td>5</td>\n",
       "      <td>1</td>\n",
       "      <td>Bambang</td>\n",
       "      <td>Pestisida &amp; Obat Pertanian</td>\n",
       "    </tr>\n",
       "    <tr>\n",
       "      <th>2</th>\n",
       "      <td>1</td>\n",
       "      <td>herbisida obat pembasmi rumput liar, gulma, al...</td>\n",
       "      <td>Sudah sampai. Belum sempat dicoba. Semoga sesu...</td>\n",
       "      <td>bintang 5</td>\n",
       "      <td>5</td>\n",
       "      <td>1</td>\n",
       "      <td>Bambang</td>\n",
       "      <td>Pestisida &amp; Obat Pertanian</td>\n",
       "    </tr>\n",
       "    <tr>\n",
       "      <th>3</th>\n",
       "      <td>5</td>\n",
       "      <td>obat pembasmi pohon dan akar, racun pohon, sta...</td>\n",
       "      <td>Packing rapih dan sesuai deskripsi</td>\n",
       "      <td>bintang 5</td>\n",
       "      <td>5</td>\n",
       "      <td>1</td>\n",
       "      <td>Bambang</td>\n",
       "      <td>Pestisida &amp; Obat Pertanian</td>\n",
       "    </tr>\n",
       "    <tr>\n",
       "      <th>4</th>\n",
       "      <td>5</td>\n",
       "      <td>obat pembasmi pohon dan akar, racun pohon, sta...</td>\n",
       "      <td>Barang sudah diterima, kurir nya cepat</td>\n",
       "      <td>bintang 5</td>\n",
       "      <td>5</td>\n",
       "      <td>1</td>\n",
       "      <td>Bambang</td>\n",
       "      <td>Pestisida &amp; Obat Pertanian</td>\n",
       "    </tr>\n",
       "    <tr>\n",
       "      <th>...</th>\n",
       "      <td>...</td>\n",
       "      <td>...</td>\n",
       "      <td>...</td>\n",
       "      <td>...</td>\n",
       "      <td>...</td>\n",
       "      <td>...</td>\n",
       "      <td>...</td>\n",
       "      <td>...</td>\n",
       "    </tr>\n",
       "    <tr>\n",
       "      <th>174891</th>\n",
       "      <td>1</td>\n",
       "      <td>herbisida obat pembasmi rumput liar, gulma, al...</td>\n",
       "      <td>NaN</td>\n",
       "      <td>2</td>\n",
       "      <td>2</td>\n",
       "      <td>8117</td>\n",
       "      <td>4qv00hrohw</td>\n",
       "      <td>Pestisida &amp; Obat Pertanian</td>\n",
       "    </tr>\n",
       "    <tr>\n",
       "      <th>174892</th>\n",
       "      <td>143</td>\n",
       "      <td>INFARM - Pupuk Organik Cair Tanaman Buah / Bun...</td>\n",
       "      <td>NaN</td>\n",
       "      <td>2</td>\n",
       "      <td>2</td>\n",
       "      <td>8117</td>\n",
       "      <td>4qv00hrohw</td>\n",
       "      <td>Pupuk dan Nutrisi Tanaman</td>\n",
       "    </tr>\n",
       "    <tr>\n",
       "      <th>174893</th>\n",
       "      <td>132</td>\n",
       "      <td>Pupuk Cair Daun Super Spray Siap Pakai by BLOO...</td>\n",
       "      <td>NaN</td>\n",
       "      <td>3</td>\n",
       "      <td>3</td>\n",
       "      <td>8117</td>\n",
       "      <td>4qv00hrohw</td>\n",
       "      <td>Pupuk dan Nutrisi Tanaman</td>\n",
       "    </tr>\n",
       "    <tr>\n",
       "      <th>174894</th>\n",
       "      <td>12</td>\n",
       "      <td>Mangga Harum Manis (1kg) Sayurbox</td>\n",
       "      <td>NaN</td>\n",
       "      <td>2</td>\n",
       "      <td>2</td>\n",
       "      <td>8117</td>\n",
       "      <td>4qv00hrohw</td>\n",
       "      <td>Produk Pertanian Segar</td>\n",
       "    </tr>\n",
       "    <tr>\n",
       "      <th>174895</th>\n",
       "      <td>63</td>\n",
       "      <td>bibit buah penyegar paket 5 macam benih buah-b...</td>\n",
       "      <td>NaN</td>\n",
       "      <td>5</td>\n",
       "      <td>5</td>\n",
       "      <td>8117</td>\n",
       "      <td>4qv00hrohw</td>\n",
       "      <td>Bibit dan Benih Tanaman</td>\n",
       "    </tr>\n",
       "  </tbody>\n",
       "</table>\n",
       "<p>174896 rows × 8 columns</p>\n",
       "</div>"
      ],
      "text/plain": [
       "        productid                                        productname  \\\n",
       "0               1  herbisida obat pembasmi rumput liar, gulma, al...   \n",
       "1               1  herbisida obat pembasmi rumput liar, gulma, al...   \n",
       "2               1  herbisida obat pembasmi rumput liar, gulma, al...   \n",
       "3               5  obat pembasmi pohon dan akar, racun pohon, sta...   \n",
       "4               5  obat pembasmi pohon dan akar, racun pohon, sta...   \n",
       "...           ...                                                ...   \n",
       "174891          1  herbisida obat pembasmi rumput liar, gulma, al...   \n",
       "174892        143  INFARM - Pupuk Organik Cair Tanaman Buah / Bun...   \n",
       "174893        132  Pupuk Cair Daun Super Spray Siap Pakai by BLOO...   \n",
       "174894         12                  Mangga Harum Manis (1kg) Sayurbox   \n",
       "174895         63  bibit buah penyegar paket 5 macam benih buah-b...   \n",
       "\n",
       "                                                  comment     rating  \\\n",
       "0       produknya bagus.  maka-nya aku beli lagi, nih....  bintang 5   \n",
       "1                      AKU SUKA PRODUKNYA.   MANJUR...!!!  bintang 5   \n",
       "2       Sudah sampai. Belum sempat dicoba. Semoga sesu...  bintang 5   \n",
       "3                      Packing rapih dan sesuai deskripsi  bintang 5   \n",
       "4                  Barang sudah diterima, kurir nya cepat  bintang 5   \n",
       "...                                                   ...        ...   \n",
       "174891                                                NaN          2   \n",
       "174892                                                NaN          2   \n",
       "174893                                                NaN          3   \n",
       "174894                                                NaN          2   \n",
       "174895                                                NaN          5   \n",
       "\n",
       "        ratingangka  userid     user_id                    category  \n",
       "0                 5       1     Bambang  Pestisida & Obat Pertanian  \n",
       "1                 5       1     Bambang  Pestisida & Obat Pertanian  \n",
       "2                 5       1     Bambang  Pestisida & Obat Pertanian  \n",
       "3                 5       1     Bambang  Pestisida & Obat Pertanian  \n",
       "4                 5       1     Bambang  Pestisida & Obat Pertanian  \n",
       "...             ...     ...         ...                         ...  \n",
       "174891            2    8117  4qv00hrohw  Pestisida & Obat Pertanian  \n",
       "174892            2    8117  4qv00hrohw   Pupuk dan Nutrisi Tanaman  \n",
       "174893            3    8117  4qv00hrohw   Pupuk dan Nutrisi Tanaman  \n",
       "174894            2    8117  4qv00hrohw      Produk Pertanian Segar  \n",
       "174895            5    8117  4qv00hrohw     Bibit dan Benih Tanaman  \n",
       "\n",
       "[174896 rows x 8 columns]"
      ]
     },
     "execution_count": 3,
     "metadata": {},
     "output_type": "execute_result"
    }
   ],
   "source": [
    "comments"
   ]
  },
  {
   "cell_type": "code",
   "execution_count": 4,
   "metadata": {
    "id": "vOUgrfj4HNx0"
   },
   "outputs": [],
   "source": [
    "def load_data():\n",
    "    ''' called to load preprepared data for the lab '''\n",
    "    item_train = genfromtxt('Data/item_train.csv', delimiter=',')\n",
    "    user_train = genfromtxt('Data/user_train.csv', delimiter=',')\n",
    "    y_train    = genfromtxt('Data/y_train.csv', delimiter=',')\n",
    "    with open('Data/item_train_header.txt', newline='') as f:    #csv reader handles quoted strings better\n",
    "        item_features = list(csv.reader(f))[0]\n",
    "    with open('Data/user_train_header.txt', newline='') as f:\n",
    "        user_features = list(csv.reader(f))[0]\n",
    "    item_vecs = genfromtxt('Data/item_train.csv', delimiter=',')\n",
    "\n",
    "    movie_dict = defaultdict(dict)\n",
    "    count = 0\n",
    "#    with open('./data/movies.csv', newline='') as csvfile:\n",
    "    with open('Data/product_id.csv', newline='') as csvfile:\n",
    "        reader = csv.reader(csvfile, delimiter=',', quotechar='\"')\n",
    "        for line in reader:\n",
    "            if count == 0:\n",
    "                count += 1  #skip header\n",
    "                #print(line) print\n",
    "            else:\n",
    "                count += 1\n",
    "                movie_id = int(line[0])\n",
    "                movie_dict[movie_id][\"productname\"] = line[1]\n",
    "                movie_dict[movie_id][\"category\"] = line[2]\n",
    "\n",
    "    return(item_train, user_train, y_train, item_features, user_features, item_vecs, movie_dict)"
   ]
  },
  {
   "cell_type": "code",
   "execution_count": 5,
   "metadata": {
    "colab": {
     "base_uri": "https://localhost:8080/"
    },
    "id": "luumPLVqH-Dm",
    "outputId": "5bee1ad0-8454-4039-afef-e02c2d9391e0"
   },
   "outputs": [
    {
     "name": "stdout",
     "output_type": "stream",
     "text": [
      "Number of training vectors: 174896\n"
     ]
    }
   ],
   "source": [
    "# Load Data, set configuration variables\n",
    "item_train, user_train, y_train, item_features, user_features, item_vecs, movie_dict = load_data()\n",
    "\n",
    "num_user_features = user_train.shape[1] - 3  # remove userid, rating count and ave rating during training\n",
    "num_item_features = item_train.shape[1] - 1  # remove movie id at train time\n",
    "uvs = 3  # user genre vector start\n",
    "ivs = 3  # item genre vector start\n",
    "u_s = 3  # start of columns to use in training, user\n",
    "i_s = 1  # start of columns to use in training, items\n",
    "print(f\"Number of training vectors: {len(item_train)}\")"
   ]
  },
  {
   "cell_type": "code",
   "execution_count": 6,
   "metadata": {
    "id": "JJf76zIiH-mG"
   },
   "outputs": [],
   "source": [
    "def pprint_train(x_train, features, vs, u_s, maxcount=5, user=True):\n",
    "    \"\"\" Prints user_train or item_train nicely \"\"\"\n",
    "    if user:\n",
    "        flist = [\".0f\", \".0f\", \".1f\",\n",
    "                 \".1f\", \".1f\", \".1f\", \".1f\", \".1f\", \".1f\", \".1f\", \".1f\", \".1f\", \".1f\", \".1f\", \".1f\", \".1f\", \".1f\"]\n",
    "    else:\n",
    "        flist = [\".0f\", \".0f\", \".1f\",\n",
    "                 \".0f\", \".0f\", \".0f\", \".0f\", \".0f\", \".0f\", \".0f\", \".0f\", \".0f\", \".0f\", \".0f\", \".0f\", \".0f\", \".0f\"]\n",
    "\n",
    "    head = features[:vs]\n",
    "    if vs < u_s: print(\"error, vector start {vs} should be greater then user start {u_s}\")\n",
    "    for i in range(u_s):\n",
    "        head[i] = \"[\" + head[i] + \"]\"\n",
    "    genres = features[vs:]\n",
    "    hdr = head + genres\n",
    "    disp = [split_str(hdr, 5)]\n",
    "    count = 0\n",
    "    for i in range(0, x_train.shape[0]):\n",
    "        if count == maxcount: break\n",
    "        count += 1\n",
    "        disp.append([x_train[i, 0].astype(int),\n",
    "                     x_train[i, 1].astype(int),\n",
    "                     x_train[i, 2].astype(float),\n",
    "                     *x_train[i, 3:].astype(float)\n",
    "                    ])\n",
    "    table = tabulate.tabulate(disp, tablefmt='html', headers=\"firstrow\", floatfmt=flist, numalign='center')\n",
    "    return table"
   ]
  },
  {
   "cell_type": "code",
   "execution_count": 7,
   "metadata": {
    "id": "ozKNqDi8M-PG"
   },
   "outputs": [],
   "source": [
    "def split_str(ifeatures, smax):\n",
    "    ''' split the feature name strings to tables fit '''\n",
    "    ofeatures = []\n",
    "    for s in ifeatures:\n",
    "        if not ' ' in s:  # skip string that already have a space\n",
    "            if len(s) > smax:\n",
    "                mid = int(len(s)/2)\n",
    "                s = s[:mid] + \" \" + s[mid:]\n",
    "        ofeatures.append(s)\n",
    "    return ofeatures"
   ]
  },
  {
   "cell_type": "code",
   "execution_count": 8,
   "metadata": {
    "colab": {
     "base_uri": "https://localhost:8080/",
     "height": 105
    },
    "id": "J_a0R7CSMlB-",
    "outputId": "8fe8ecdf-5161-459c-96ce-76821714c957"
   },
   "outputs": [
    {
     "data": {
      "text/html": [
       "<table>\n",
       "<thead>\n",
       "<tr><th style=\"text-align: center;\">  </th><th style=\"text-align: center;\"> [use rid] </th><th style=\"text-align: center;\"> [ratin gcount] </th><th style=\"text-align: center;\"> [rati ngave] </th><th style=\"text-align: center;\"> Pestisida &amp; Obat Pertanian </th><th style=\"text-align: center;\"> Produk Pertanian Segar </th><th style=\"text-align: center;\"> Sarana dan Peralatan Irigasi </th><th style=\"text-align: center;\"> Produk Olahan Pertanian </th><th style=\"text-align: center;\">  Teknologi Pertanian\tPerlengkapan Rumah Kaca dan Pembibitan  </th><th style=\"text-align: center;\"> Bahan Pengemasan dan Logistik </th><th style=\"text-align: center;\"> Bibit dan Benih Tanaman </th><th style=\"text-align: center;\"> Pupuk dan Nutrisi Tanaman </th><th style=\"text-align: center;\"> Alat dan Mesin Pertanian </th></tr>\n",
       "</thead>\n",
       "<tbody>\n",
       "<tr><td style=\"text-align: center;\">1 </td><td style=\"text-align: center;\">    250    </td><td style=\"text-align: center;\">      3.5       </td><td style=\"text-align: center;\">     4.1      </td><td style=\"text-align: center;\">            3.4             </td><td style=\"text-align: center;\">          3.8           </td><td style=\"text-align: center;\">             3.0              </td><td style=\"text-align: center;\">           3.6           </td><td style=\"text-align: center;\">3.7</td><td style=\"text-align: center;\">              3.5              </td><td style=\"text-align: center;\">           3.7           </td><td style=\"text-align: center;\">            3.4            </td><td style=\"text-align: center;\">           3.2            </td></tr>\n",
       "<tr><td style=\"text-align: center;\">1 </td><td style=\"text-align: center;\">    250    </td><td style=\"text-align: center;\">      3.5       </td><td style=\"text-align: center;\">     4.1      </td><td style=\"text-align: center;\">            3.4             </td><td style=\"text-align: center;\">          3.8           </td><td style=\"text-align: center;\">             3.0              </td><td style=\"text-align: center;\">           3.6           </td><td style=\"text-align: center;\">3.7</td><td style=\"text-align: center;\">              3.5              </td><td style=\"text-align: center;\">           3.7           </td><td style=\"text-align: center;\">            3.4            </td><td style=\"text-align: center;\">           3.2            </td></tr>\n",
       "<tr><td style=\"text-align: center;\">1 </td><td style=\"text-align: center;\">    250    </td><td style=\"text-align: center;\">      3.5       </td><td style=\"text-align: center;\">     4.1      </td><td style=\"text-align: center;\">            3.4             </td><td style=\"text-align: center;\">          3.8           </td><td style=\"text-align: center;\">             3.0              </td><td style=\"text-align: center;\">           3.6           </td><td style=\"text-align: center;\">3.7</td><td style=\"text-align: center;\">              3.5              </td><td style=\"text-align: center;\">           3.7           </td><td style=\"text-align: center;\">            3.4            </td><td style=\"text-align: center;\">           3.2            </td></tr>\n",
       "<tr><td style=\"text-align: center;\">1 </td><td style=\"text-align: center;\">    250    </td><td style=\"text-align: center;\">      3.5       </td><td style=\"text-align: center;\">     4.1      </td><td style=\"text-align: center;\">            3.4             </td><td style=\"text-align: center;\">          3.8           </td><td style=\"text-align: center;\">             3.0              </td><td style=\"text-align: center;\">           3.6           </td><td style=\"text-align: center;\">3.7</td><td style=\"text-align: center;\">              3.5              </td><td style=\"text-align: center;\">           3.7           </td><td style=\"text-align: center;\">            3.4            </td><td style=\"text-align: center;\">           3.2            </td></tr>\n",
       "<tr><td style=\"text-align: center;\">1 </td><td style=\"text-align: center;\">    250    </td><td style=\"text-align: center;\">      3.5       </td><td style=\"text-align: center;\">     4.1      </td><td style=\"text-align: center;\">            3.4             </td><td style=\"text-align: center;\">          3.8           </td><td style=\"text-align: center;\">             3.0              </td><td style=\"text-align: center;\">           3.6           </td><td style=\"text-align: center;\">3.7</td><td style=\"text-align: center;\">              3.5              </td><td style=\"text-align: center;\">           3.7           </td><td style=\"text-align: center;\">            3.4            </td><td style=\"text-align: center;\">           3.2            </td></tr>\n",
       "</tbody>\n",
       "</table>"
      ],
      "text/plain": [
       "'<table>\\n<thead>\\n<tr><th style=\"text-align: center;\">  </th><th style=\"text-align: center;\"> [use rid] </th><th style=\"text-align: center;\"> [ratin gcount] </th><th style=\"text-align: center;\"> [rati ngave] </th><th style=\"text-align: center;\"> Pestisida &amp; Obat Pertanian </th><th style=\"text-align: center;\"> Produk Pertanian Segar </th><th style=\"text-align: center;\"> Sarana dan Peralatan Irigasi </th><th style=\"text-align: center;\"> Produk Olahan Pertanian </th><th style=\"text-align: center;\">  Teknologi Pertanian\\tPerlengkapan Rumah Kaca dan Pembibitan  </th><th style=\"text-align: center;\"> Bahan Pengemasan dan Logistik </th><th style=\"text-align: center;\"> Bibit dan Benih Tanaman </th><th style=\"text-align: center;\"> Pupuk dan Nutrisi Tanaman </th><th style=\"text-align: center;\"> Alat dan Mesin Pertanian </th></tr>\\n</thead>\\n<tbody>\\n<tr><td style=\"text-align: center;\">1 </td><td style=\"text-align: center;\">    250    </td><td style=\"text-align: center;\">      3.5       </td><td style=\"text-align: center;\">     4.1      </td><td style=\"text-align: center;\">            3.4             </td><td style=\"text-align: center;\">          3.8           </td><td style=\"text-align: center;\">             3.0              </td><td style=\"text-align: center;\">           3.6           </td><td style=\"text-align: center;\">3.7</td><td style=\"text-align: center;\">              3.5              </td><td style=\"text-align: center;\">           3.7           </td><td style=\"text-align: center;\">            3.4            </td><td style=\"text-align: center;\">           3.2            </td></tr>\\n<tr><td style=\"text-align: center;\">1 </td><td style=\"text-align: center;\">    250    </td><td style=\"text-align: center;\">      3.5       </td><td style=\"text-align: center;\">     4.1      </td><td style=\"text-align: center;\">            3.4             </td><td style=\"text-align: center;\">          3.8           </td><td style=\"text-align: center;\">             3.0              </td><td style=\"text-align: center;\">           3.6           </td><td style=\"text-align: center;\">3.7</td><td style=\"text-align: center;\">              3.5              </td><td style=\"text-align: center;\">           3.7           </td><td style=\"text-align: center;\">            3.4            </td><td style=\"text-align: center;\">           3.2            </td></tr>\\n<tr><td style=\"text-align: center;\">1 </td><td style=\"text-align: center;\">    250    </td><td style=\"text-align: center;\">      3.5       </td><td style=\"text-align: center;\">     4.1      </td><td style=\"text-align: center;\">            3.4             </td><td style=\"text-align: center;\">          3.8           </td><td style=\"text-align: center;\">             3.0              </td><td style=\"text-align: center;\">           3.6           </td><td style=\"text-align: center;\">3.7</td><td style=\"text-align: center;\">              3.5              </td><td style=\"text-align: center;\">           3.7           </td><td style=\"text-align: center;\">            3.4            </td><td style=\"text-align: center;\">           3.2            </td></tr>\\n<tr><td style=\"text-align: center;\">1 </td><td style=\"text-align: center;\">    250    </td><td style=\"text-align: center;\">      3.5       </td><td style=\"text-align: center;\">     4.1      </td><td style=\"text-align: center;\">            3.4             </td><td style=\"text-align: center;\">          3.8           </td><td style=\"text-align: center;\">             3.0              </td><td style=\"text-align: center;\">           3.6           </td><td style=\"text-align: center;\">3.7</td><td style=\"text-align: center;\">              3.5              </td><td style=\"text-align: center;\">           3.7           </td><td style=\"text-align: center;\">            3.4            </td><td style=\"text-align: center;\">           3.2            </td></tr>\\n<tr><td style=\"text-align: center;\">1 </td><td style=\"text-align: center;\">    250    </td><td style=\"text-align: center;\">      3.5       </td><td style=\"text-align: center;\">     4.1      </td><td style=\"text-align: center;\">            3.4             </td><td style=\"text-align: center;\">          3.8           </td><td style=\"text-align: center;\">             3.0              </td><td style=\"text-align: center;\">           3.6           </td><td style=\"text-align: center;\">3.7</td><td style=\"text-align: center;\">              3.5              </td><td style=\"text-align: center;\">           3.7           </td><td style=\"text-align: center;\">            3.4            </td><td style=\"text-align: center;\">           3.2            </td></tr>\\n</tbody>\\n</table>'"
      ]
     },
     "execution_count": 8,
     "metadata": {},
     "output_type": "execute_result"
    }
   ],
   "source": [
    "pprint_train(user_train, user_features, uvs,  u_s, maxcount=5)"
   ]
  },
  {
   "cell_type": "code",
   "execution_count": 9,
   "metadata": {
    "colab": {
     "base_uri": "https://localhost:8080/",
     "height": 105
    },
    "id": "BMXhM3BLNlrv",
    "outputId": "2a60b9e7-f549-4926-b14e-2aec950b4a2e"
   },
   "outputs": [
    {
     "data": {
      "text/html": [
       "<table>\n",
       "<thead>\n",
       "<tr><th style=\"text-align: center;\"> [prod uctid] </th><th style=\"text-align: center;\"> rati ngave </th><th style=\"text-align: center;\"> Pestisida &amp; Obat Pertanian </th><th style=\"text-align: center;\"> Produk Pertanian Segar </th><th style=\"text-align: center;\"> Sarana dan Peralatan Irigasi </th><th style=\"text-align: center;\"> Produk Olahan Pertanian </th><th style=\"text-align: center;\"> Teknologi Pertanian </th><th style=\"text-align: center;\"> Perlengkapan Rumah Kaca dan Pembibitan </th><th style=\"text-align: center;\"> Bahan Pengemasan dan Logistik </th><th style=\"text-align: center;\"> Bibit dan Benih Tanaman </th><th style=\"text-align: center;\"> Pupuk dan Nutrisi Tanaman </th><th style=\"text-align: center;\"> Alat dan Mesin Pertanian </th></tr>\n",
       "</thead>\n",
       "<tbody>\n",
       "<tr><td style=\"text-align: center;\">      1       </td><td style=\"text-align: center;\">     3      </td><td style=\"text-align: center;\">            1.0             </td><td style=\"text-align: center;\">           0            </td><td style=\"text-align: center;\">              0               </td><td style=\"text-align: center;\">            0            </td><td style=\"text-align: center;\">          0          </td><td style=\"text-align: center;\">                   0                    </td><td style=\"text-align: center;\">               0               </td><td style=\"text-align: center;\">            0            </td><td style=\"text-align: center;\">             0             </td><td style=\"text-align: center;\">            0             </td></tr>\n",
       "<tr><td style=\"text-align: center;\">      1       </td><td style=\"text-align: center;\">     3      </td><td style=\"text-align: center;\">            1.0             </td><td style=\"text-align: center;\">           0            </td><td style=\"text-align: center;\">              0               </td><td style=\"text-align: center;\">            0            </td><td style=\"text-align: center;\">          0          </td><td style=\"text-align: center;\">                   0                    </td><td style=\"text-align: center;\">               0               </td><td style=\"text-align: center;\">            0            </td><td style=\"text-align: center;\">             0             </td><td style=\"text-align: center;\">            0             </td></tr>\n",
       "<tr><td style=\"text-align: center;\">      1       </td><td style=\"text-align: center;\">     3      </td><td style=\"text-align: center;\">            1.0             </td><td style=\"text-align: center;\">           0            </td><td style=\"text-align: center;\">              0               </td><td style=\"text-align: center;\">            0            </td><td style=\"text-align: center;\">          0          </td><td style=\"text-align: center;\">                   0                    </td><td style=\"text-align: center;\">               0               </td><td style=\"text-align: center;\">            0            </td><td style=\"text-align: center;\">             0             </td><td style=\"text-align: center;\">            0             </td></tr>\n",
       "<tr><td style=\"text-align: center;\">      5       </td><td style=\"text-align: center;\">     3      </td><td style=\"text-align: center;\">            1.0             </td><td style=\"text-align: center;\">           0            </td><td style=\"text-align: center;\">              0               </td><td style=\"text-align: center;\">            0            </td><td style=\"text-align: center;\">          0          </td><td style=\"text-align: center;\">                   0                    </td><td style=\"text-align: center;\">               0               </td><td style=\"text-align: center;\">            0            </td><td style=\"text-align: center;\">             0             </td><td style=\"text-align: center;\">            0             </td></tr>\n",
       "<tr><td style=\"text-align: center;\">      5       </td><td style=\"text-align: center;\">     3      </td><td style=\"text-align: center;\">            1.0             </td><td style=\"text-align: center;\">           0            </td><td style=\"text-align: center;\">              0               </td><td style=\"text-align: center;\">            0            </td><td style=\"text-align: center;\">          0          </td><td style=\"text-align: center;\">                   0                    </td><td style=\"text-align: center;\">               0               </td><td style=\"text-align: center;\">            0            </td><td style=\"text-align: center;\">             0             </td><td style=\"text-align: center;\">            0             </td></tr>\n",
       "</tbody>\n",
       "</table>"
      ],
      "text/plain": [
       "'<table>\\n<thead>\\n<tr><th style=\"text-align: center;\"> [prod uctid] </th><th style=\"text-align: center;\"> rati ngave </th><th style=\"text-align: center;\"> Pestisida &amp; Obat Pertanian </th><th style=\"text-align: center;\"> Produk Pertanian Segar </th><th style=\"text-align: center;\"> Sarana dan Peralatan Irigasi </th><th style=\"text-align: center;\"> Produk Olahan Pertanian </th><th style=\"text-align: center;\"> Teknologi Pertanian </th><th style=\"text-align: center;\"> Perlengkapan Rumah Kaca dan Pembibitan </th><th style=\"text-align: center;\"> Bahan Pengemasan dan Logistik </th><th style=\"text-align: center;\"> Bibit dan Benih Tanaman </th><th style=\"text-align: center;\"> Pupuk dan Nutrisi Tanaman </th><th style=\"text-align: center;\"> Alat dan Mesin Pertanian </th></tr>\\n</thead>\\n<tbody>\\n<tr><td style=\"text-align: center;\">      1       </td><td style=\"text-align: center;\">     3      </td><td style=\"text-align: center;\">            1.0             </td><td style=\"text-align: center;\">           0            </td><td style=\"text-align: center;\">              0               </td><td style=\"text-align: center;\">            0            </td><td style=\"text-align: center;\">          0          </td><td style=\"text-align: center;\">                   0                    </td><td style=\"text-align: center;\">               0               </td><td style=\"text-align: center;\">            0            </td><td style=\"text-align: center;\">             0             </td><td style=\"text-align: center;\">            0             </td></tr>\\n<tr><td style=\"text-align: center;\">      1       </td><td style=\"text-align: center;\">     3      </td><td style=\"text-align: center;\">            1.0             </td><td style=\"text-align: center;\">           0            </td><td style=\"text-align: center;\">              0               </td><td style=\"text-align: center;\">            0            </td><td style=\"text-align: center;\">          0          </td><td style=\"text-align: center;\">                   0                    </td><td style=\"text-align: center;\">               0               </td><td style=\"text-align: center;\">            0            </td><td style=\"text-align: center;\">             0             </td><td style=\"text-align: center;\">            0             </td></tr>\\n<tr><td style=\"text-align: center;\">      1       </td><td style=\"text-align: center;\">     3      </td><td style=\"text-align: center;\">            1.0             </td><td style=\"text-align: center;\">           0            </td><td style=\"text-align: center;\">              0               </td><td style=\"text-align: center;\">            0            </td><td style=\"text-align: center;\">          0          </td><td style=\"text-align: center;\">                   0                    </td><td style=\"text-align: center;\">               0               </td><td style=\"text-align: center;\">            0            </td><td style=\"text-align: center;\">             0             </td><td style=\"text-align: center;\">            0             </td></tr>\\n<tr><td style=\"text-align: center;\">      5       </td><td style=\"text-align: center;\">     3      </td><td style=\"text-align: center;\">            1.0             </td><td style=\"text-align: center;\">           0            </td><td style=\"text-align: center;\">              0               </td><td style=\"text-align: center;\">            0            </td><td style=\"text-align: center;\">          0          </td><td style=\"text-align: center;\">                   0                    </td><td style=\"text-align: center;\">               0               </td><td style=\"text-align: center;\">            0            </td><td style=\"text-align: center;\">             0             </td><td style=\"text-align: center;\">            0             </td></tr>\\n<tr><td style=\"text-align: center;\">      5       </td><td style=\"text-align: center;\">     3      </td><td style=\"text-align: center;\">            1.0             </td><td style=\"text-align: center;\">           0            </td><td style=\"text-align: center;\">              0               </td><td style=\"text-align: center;\">            0            </td><td style=\"text-align: center;\">          0          </td><td style=\"text-align: center;\">                   0                    </td><td style=\"text-align: center;\">               0               </td><td style=\"text-align: center;\">            0            </td><td style=\"text-align: center;\">             0             </td><td style=\"text-align: center;\">            0             </td></tr>\\n</tbody>\\n</table>'"
      ]
     },
     "execution_count": 9,
     "metadata": {},
     "output_type": "execute_result"
    }
   ],
   "source": [
    "pprint_train(item_train, item_features, ivs, i_s, maxcount=5, user=False)"
   ]
  },
  {
   "cell_type": "code",
   "execution_count": 10,
   "metadata": {
    "colab": {
     "base_uri": "https://localhost:8080/"
    },
    "id": "U0hg1OTCJxcI",
    "outputId": "613a48c7-760d-41de-bb6f-8a6ead1a822e"
   },
   "outputs": [
    {
     "name": "stdout",
     "output_type": "stream",
     "text": [
      "y_train[:5]: [5. 5. 5. 5. 5.]\n"
     ]
    }
   ],
   "source": [
    "print(f\"y_train[:5]: {y_train[:5]}\")"
   ]
  },
  {
   "cell_type": "code",
   "execution_count": 11,
   "metadata": {
    "colab": {
     "base_uri": "https://localhost:8080/"
    },
    "id": "CxMQ3QRMKN28",
    "outputId": "370d9da0-7b35-4210-d125-1c5cc1c985fc"
   },
   "outputs": [
    {
     "name": "stdout",
     "output_type": "stream",
     "text": [
      "True\n",
      "True\n"
     ]
    }
   ],
   "source": [
    "# scale training data\n",
    "item_train_unscaled = item_train\n",
    "user_train_unscaled = user_train\n",
    "y_train_unscaled    = y_train\n",
    "\n",
    "scalerItem = StandardScaler()\n",
    "scalerItem.fit(item_train)\n",
    "item_train = scalerItem.transform(item_train)\n",
    "\n",
    "scalerUser = StandardScaler()\n",
    "scalerUser.fit(user_train)\n",
    "user_train = scalerUser.transform(user_train)\n",
    "\n",
    "scalerTarget = MinMaxScaler((-1, 1))\n",
    "scalerTarget.fit(y_train.reshape(-1, 1))\n",
    "y_train = scalerTarget.transform(y_train.reshape(-1, 1))\n",
    "#ynorm_test = scalerTarget.transform(y_test.reshape(-1, 1))\n",
    "\n",
    "print(np.allclose(item_train_unscaled, scalerItem.inverse_transform(item_train)))\n",
    "print(np.allclose(user_train_unscaled, scalerUser.inverse_transform(user_train)))"
   ]
  },
  {
   "cell_type": "code",
   "execution_count": 12,
   "metadata": {
    "colab": {
     "base_uri": "https://localhost:8080/"
    },
    "id": "Y0vgQrt0KUhj",
    "outputId": "c0aa509e-252f-41bc-956c-0fdaa67cde4d"
   },
   "outputs": [
    {
     "name": "stdout",
     "output_type": "stream",
     "text": [
      "movie/item training data shape: (139916, 12)\n",
      "movie/item test data shape: (34980, 12)\n"
     ]
    }
   ],
   "source": [
    "item_train, item_test = train_test_split(item_train, train_size=0.80, shuffle=True, random_state=1)\n",
    "user_train, user_test = train_test_split(user_train, train_size=0.80, shuffle=True, random_state=1)\n",
    "y_train, y_test       = train_test_split(y_train,    train_size=0.80, shuffle=True, random_state=1)\n",
    "print(f\"movie/item training data shape: {item_train.shape}\")\n",
    "print(f\"movie/item test data shape: {item_test.shape}\")"
   ]
  },
  {
   "cell_type": "code",
   "execution_count": 13,
   "metadata": {
    "colab": {
     "base_uri": "https://localhost:8080/",
     "height": 105
    },
    "id": "dJjNvfwNOPAZ",
    "outputId": "425c7d8c-292a-4119-b682-3bd6362b8ef8"
   },
   "outputs": [
    {
     "data": {
      "text/html": [
       "<table>\n",
       "<thead>\n",
       "<tr><th style=\"text-align: center;\">  </th><th style=\"text-align: center;\"> [use rid] </th><th style=\"text-align: center;\"> [ratin gcount] </th><th style=\"text-align: center;\"> [rati ngave] </th><th style=\"text-align: center;\"> Pestisida &amp; Obat Pertanian </th><th style=\"text-align: center;\"> Produk Pertanian Segar </th><th style=\"text-align: center;\"> Sarana dan Peralatan Irigasi </th><th style=\"text-align: center;\"> Produk Olahan Pertanian </th><th style=\"text-align: center;\">  Teknologi Pertanian\tPerlengkapan Rumah Kaca dan Pembibitan   </th><th style=\"text-align: center;\"> Bahan Pengemasan dan Logistik </th><th style=\"text-align: center;\"> Bibit dan Benih Tanaman </th><th style=\"text-align: center;\"> Pupuk dan Nutrisi Tanaman </th><th style=\"text-align: center;\"> Alat dan Mesin Pertanian </th></tr>\n",
       "</thead>\n",
       "<tbody>\n",
       "<tr><td style=\"text-align: center;\">0 </td><td style=\"text-align: center;\">     0     </td><td style=\"text-align: center;\">      -0.4      </td><td style=\"text-align: center;\">     0.0      </td><td style=\"text-align: center;\">            0.7             </td><td style=\"text-align: center;\">          0.9           </td><td style=\"text-align: center;\">             0.4              </td><td style=\"text-align: center;\">           0.2           </td><td style=\"text-align: center;\">-0.4</td><td style=\"text-align: center;\">              0.4              </td><td style=\"text-align: center;\">           0.0           </td><td style=\"text-align: center;\">           -0.2            </td><td style=\"text-align: center;\">           0.2            </td></tr>\n",
       "<tr><td style=\"text-align: center;\">0 </td><td style=\"text-align: center;\">     1     </td><td style=\"text-align: center;\">      -0.2      </td><td style=\"text-align: center;\">     0.2      </td><td style=\"text-align: center;\">            0.3             </td><td style=\"text-align: center;\">          0.0           </td><td style=\"text-align: center;\">             0.1              </td><td style=\"text-align: center;\">           0.5           </td><td style=\"text-align: center;\">0.7 </td><td style=\"text-align: center;\">              0.2              </td><td style=\"text-align: center;\">           0.6           </td><td style=\"text-align: center;\">            0.1            </td><td style=\"text-align: center;\">           -0.0           </td></tr>\n",
       "<tr><td style=\"text-align: center;\">0 </td><td style=\"text-align: center;\">     0     </td><td style=\"text-align: center;\">      -0.6      </td><td style=\"text-align: center;\">     0.9      </td><td style=\"text-align: center;\">            0.0             </td><td style=\"text-align: center;\">          0.2           </td><td style=\"text-align: center;\">             -0.2             </td><td style=\"text-align: center;\">           0.7           </td><td style=\"text-align: center;\">-1.2</td><td style=\"text-align: center;\">              0.1              </td><td style=\"text-align: center;\">           0.7           </td><td style=\"text-align: center;\">            0.6            </td><td style=\"text-align: center;\">           0.0            </td></tr>\n",
       "<tr><td style=\"text-align: center;\">1 </td><td style=\"text-align: center;\">     0     </td><td style=\"text-align: center;\">      0.7       </td><td style=\"text-align: center;\">     -0.6     </td><td style=\"text-align: center;\">            1.4             </td><td style=\"text-align: center;\">          -2.9          </td><td style=\"text-align: center;\">             -2.7             </td><td style=\"text-align: center;\">          -2.2           </td><td style=\"text-align: center;\">-0.2</td><td style=\"text-align: center;\">             -1.9              </td><td style=\"text-align: center;\">           1.5           </td><td style=\"text-align: center;\">            1.4            </td><td style=\"text-align: center;\">           0.0            </td></tr>\n",
       "<tr><td style=\"text-align: center;\">0 </td><td style=\"text-align: center;\">     0     </td><td style=\"text-align: center;\">      -0.6      </td><td style=\"text-align: center;\">     1.3      </td><td style=\"text-align: center;\">            -0.3            </td><td style=\"text-align: center;\">          1.5           </td><td style=\"text-align: center;\">             0.3              </td><td style=\"text-align: center;\">          -0.8           </td><td style=\"text-align: center;\">-3.0</td><td style=\"text-align: center;\">              0.1              </td><td style=\"text-align: center;\">          -2.6           </td><td style=\"text-align: center;\">           -0.2            </td><td style=\"text-align: center;\">           -3.2           </td></tr>\n",
       "</tbody>\n",
       "</table>"
      ],
      "text/plain": [
       "'<table>\\n<thead>\\n<tr><th style=\"text-align: center;\">  </th><th style=\"text-align: center;\"> [use rid] </th><th style=\"text-align: center;\"> [ratin gcount] </th><th style=\"text-align: center;\"> [rati ngave] </th><th style=\"text-align: center;\"> Pestisida &amp; Obat Pertanian </th><th style=\"text-align: center;\"> Produk Pertanian Segar </th><th style=\"text-align: center;\"> Sarana dan Peralatan Irigasi </th><th style=\"text-align: center;\"> Produk Olahan Pertanian </th><th style=\"text-align: center;\">  Teknologi Pertanian\\tPerlengkapan Rumah Kaca dan Pembibitan   </th><th style=\"text-align: center;\"> Bahan Pengemasan dan Logistik </th><th style=\"text-align: center;\"> Bibit dan Benih Tanaman </th><th style=\"text-align: center;\"> Pupuk dan Nutrisi Tanaman </th><th style=\"text-align: center;\"> Alat dan Mesin Pertanian </th></tr>\\n</thead>\\n<tbody>\\n<tr><td style=\"text-align: center;\">0 </td><td style=\"text-align: center;\">     0     </td><td style=\"text-align: center;\">      -0.4      </td><td style=\"text-align: center;\">     0.0      </td><td style=\"text-align: center;\">            0.7             </td><td style=\"text-align: center;\">          0.9           </td><td style=\"text-align: center;\">             0.4              </td><td style=\"text-align: center;\">           0.2           </td><td style=\"text-align: center;\">-0.4</td><td style=\"text-align: center;\">              0.4              </td><td style=\"text-align: center;\">           0.0           </td><td style=\"text-align: center;\">           -0.2            </td><td style=\"text-align: center;\">           0.2            </td></tr>\\n<tr><td style=\"text-align: center;\">0 </td><td style=\"text-align: center;\">     1     </td><td style=\"text-align: center;\">      -0.2      </td><td style=\"text-align: center;\">     0.2      </td><td style=\"text-align: center;\">            0.3             </td><td style=\"text-align: center;\">          0.0           </td><td style=\"text-align: center;\">             0.1              </td><td style=\"text-align: center;\">           0.5           </td><td style=\"text-align: center;\">0.7 </td><td style=\"text-align: center;\">              0.2              </td><td style=\"text-align: center;\">           0.6           </td><td style=\"text-align: center;\">            0.1            </td><td style=\"text-align: center;\">           -0.0           </td></tr>\\n<tr><td style=\"text-align: center;\">0 </td><td style=\"text-align: center;\">     0     </td><td style=\"text-align: center;\">      -0.6      </td><td style=\"text-align: center;\">     0.9      </td><td style=\"text-align: center;\">            0.0             </td><td style=\"text-align: center;\">          0.2           </td><td style=\"text-align: center;\">             -0.2             </td><td style=\"text-align: center;\">           0.7           </td><td style=\"text-align: center;\">-1.2</td><td style=\"text-align: center;\">              0.1              </td><td style=\"text-align: center;\">           0.7           </td><td style=\"text-align: center;\">            0.6            </td><td style=\"text-align: center;\">           0.0            </td></tr>\\n<tr><td style=\"text-align: center;\">1 </td><td style=\"text-align: center;\">     0     </td><td style=\"text-align: center;\">      0.7       </td><td style=\"text-align: center;\">     -0.6     </td><td style=\"text-align: center;\">            1.4             </td><td style=\"text-align: center;\">          -2.9          </td><td style=\"text-align: center;\">             -2.7             </td><td style=\"text-align: center;\">          -2.2           </td><td style=\"text-align: center;\">-0.2</td><td style=\"text-align: center;\">             -1.9              </td><td style=\"text-align: center;\">           1.5           </td><td style=\"text-align: center;\">            1.4            </td><td style=\"text-align: center;\">           0.0            </td></tr>\\n<tr><td style=\"text-align: center;\">0 </td><td style=\"text-align: center;\">     0     </td><td style=\"text-align: center;\">      -0.6      </td><td style=\"text-align: center;\">     1.3      </td><td style=\"text-align: center;\">            -0.3            </td><td style=\"text-align: center;\">          1.5           </td><td style=\"text-align: center;\">             0.3              </td><td style=\"text-align: center;\">          -0.8           </td><td style=\"text-align: center;\">-3.0</td><td style=\"text-align: center;\">              0.1              </td><td style=\"text-align: center;\">          -2.6           </td><td style=\"text-align: center;\">           -0.2            </td><td style=\"text-align: center;\">           -3.2           </td></tr>\\n</tbody>\\n</table>'"
      ]
     },
     "execution_count": 13,
     "metadata": {},
     "output_type": "execute_result"
    }
   ],
   "source": [
    "pprint_train(user_train, user_features, uvs, u_s, maxcount=5)"
   ]
  },
  {
   "cell_type": "code",
   "execution_count": 14,
   "metadata": {
    "colab": {
     "base_uri": "https://localhost:8080/",
     "height": 391
    },
    "id": "sJTPaGjgOTzz",
    "outputId": "4d170b22-a97a-4768-d8db-ddd728cab2e3"
   },
   "outputs": [
    {
     "name": "stdout",
     "output_type": "stream",
     "text": [
      "Model: \"model\"\n",
      "__________________________________________________________________________________________________\n",
      " Layer (type)                   Output Shape         Param #     Connected to                     \n",
      "==================================================================================================\n",
      " input_1 (InputLayer)           [(None, 10)]         0           []                               \n",
      "                                                                                                  \n",
      " input_2 (InputLayer)           [(None, 11)]         0           []                               \n",
      "                                                                                                  \n",
      " sequential (Sequential)        (None, 32)           39840       ['input_1[0][0]']                \n",
      "                                                                                                  \n",
      "__________________________________________________________________________________________________\n",
      " Layer (type)                   Output Shape         Param #     Connected to                     \n",
      "==================================================================================================\n",
      " input_1 (InputLayer)           [(None, 10)]         0           []                               \n",
      "                                                                                                  \n",
      " input_2 (InputLayer)           [(None, 11)]         0           []                               \n",
      "                                                                                                  \n",
      " sequential (Sequential)        (None, 32)           39840       ['input_1[0][0]']                \n",
      "                                                                                                  \n",
      " sequential_1 (Sequential)      (None, 32)           40096       ['input_2[0][0]']                \n",
      "                                                                                                  \n",
      " lambda (Lambda)                (None, 32)           0           ['sequential[0][0]']             \n",
      "                                                                                                  \n",
      " lambda_1 (Lambda)              (None, 32)           0           ['sequential_1[0][0]']           \n",
      "                                                                                                  \n",
      " dot (Dot)                      (None, 1)            0           ['lambda[0][0]',                 \n",
      "                                                                  'lambda_1[0][0]']               \n",
      "                                                                                                  \n",
      "==================================================================================================\n",
      "Total params: 79,936\n",
      "Trainable params: 79,936\n",
      "Non-trainable params: 0\n",
      "__________________________________________________________________________________________________\n"
     ]
    }
   ],
   "source": [
    "num_outputs = 32\n",
    "tf.random.set_seed(1)\n",
    "user_NN = tf.keras.models.Sequential([\n",
    "    ### START CODE HERE ###\n",
    "    tf.keras.layers.Dense(256, activation='relu'),\n",
    "    tf.keras.layers.Dense(128, activation='relu'),\n",
    "    tf.keras.layers.Dense(num_outputs)\n",
    "    ### END CODE HERE ###\n",
    "])\n",
    "\n",
    "item_NN = tf.keras.models.Sequential([\n",
    "    ### START CODE HERE ###\n",
    "    tf.keras.layers.Dense(256, activation='relu'),\n",
    "    tf.keras.layers.Dense(128, activation='relu'),\n",
    "    tf.keras.layers.Dense(num_outputs)\n",
    "    ### END CODE HERE ###\n",
    "])\n",
    "\n",
    "# create the user input and point to the base network\n",
    "input_user = tf.keras.layers.Input(shape=[num_user_features])\n",
    "vu = user_NN(input_user)\n",
    "vu = tf.keras.layers.Lambda(lambda x: tf.linalg.l2_normalize(x, axis=1))(vu)\n",
    "\n",
    "# create the item input and point to the base network\n",
    "input_item = tf.keras.layers.Input(shape=(num_item_features,))\n",
    "vm = item_NN(input_item)\n",
    "vm = tf.keras.layers.Lambda(lambda x: tf.linalg.l2_normalize(x, axis=1))(vm)\n",
    "\n",
    "# compute the dot product of the two vectors vu and vm\n",
    "output = tf.keras.layers.Dot(axes=1)([vu, vm])\n",
    "\n",
    "# specify the inputs and output of the model\n",
    "model = tf.keras.Model([input_user, input_item], output)\n",
    "\n",
    "model.summary()"
   ]
  },
  {
   "cell_type": "code",
   "execution_count": 15,
   "metadata": {
    "id": "SZ9REhR081js"
   },
   "outputs": [],
   "source": [
    "tf.random.set_seed(1)\n",
    "cost_fn = tf.keras.losses.CosineSimilarity()\n",
    "opt = keras.optimizers.Adam(learning_rate=0.01)\n",
    "model.compile(optimizer=opt,\n",
    "              loss=cost_fn)"
   ]
  },
  {
   "cell_type": "code",
   "execution_count": null,
   "metadata": {
    "colab": {
     "base_uri": "https://localhost:8080/"
    },
    "id": "-aPCAnh3OM9A",
    "outputId": "6ec14875-43d4-4afa-d40b-8fc2fadd5608"
   },
   "outputs": [
    {
     "name": "stdout",
     "output_type": "stream",
     "text": [
      "Epoch 1/30\n",
      "4373/4373 [==============================] - 25s 5ms/step - loss: -0.2616\n",
      "Epoch 2/30\n",
      "4373/4373 [==============================] - 22s 5ms/step - loss: -0.2684\n",
      "Epoch 3/30\n",
      "4373/4373 [==============================] - 20s 5ms/step - loss: -0.2618\n",
      "Epoch 4/30\n",
      "4373/4373 [==============================] - 18s 4ms/step - loss: -0.2618\n",
      "Epoch 5/30\n",
      "4373/4373 [==============================] - 17s 4ms/step - loss: -0.2618\n",
      "Epoch 6/30\n",
      " 205/4373 [>.............................] - ETA: 13s - loss: -0.2401"
     ]
    }
   ],
   "source": [
    "tf.random.set_seed(1)\n",
    "model.fit([user_train[:, u_s:], item_train[:, i_s:]], y_train, epochs=30)"
   ]
  },
  {
   "cell_type": "code",
   "execution_count": null,
   "metadata": {
    "colab": {
     "base_uri": "https://localhost:8080/"
    },
    "id": "Bq0eCs3u899i",
    "outputId": "028ffe1b-d99c-4656-95d3-615863a68928"
   },
   "outputs": [
    {
     "name": "stdout",
     "output_type": "stream",
     "text": [
      "1094/1094 [==============================] - 9s 8ms/step - loss: -0.2671\n"
     ]
    },
    {
     "data": {
      "text/plain": [
       "-0.2670954763889313"
      ]
     },
     "execution_count": 17,
     "metadata": {},
     "output_type": "execute_result"
    }
   ],
   "source": [
    "model.evaluate([user_test[:, u_s:], item_test[:, i_s:]], y_test)"
   ]
  },
  {
   "cell_type": "code",
   "execution_count": null,
   "metadata": {
    "id": "0FLVlNReFiXg"
   },
   "outputs": [],
   "source": [
    "new_user_id = 8118\n",
    "new_rating_ave = 0.0\n",
    "new_peptisida = 5.0\n",
    "new_pertaniansegar = 0.0\n",
    "new_irigasi = 0.0\n",
    "new_olahanpertanian = 5.0\n",
    "new_teknologipertanian = 0.0\n",
    "new_rumahkaca = 0.0\n",
    "new_pengemasanlogistik = 10.0\n",
    "new_bibitdanbenih = 15.0\n",
    "new_pupuknutrisi = 100.0\n",
    "new_alatmesin = 0.0\n",
    "new_rating_count = 3\n",
    "\n",
    "user_vec = np.array([[new_user_id, new_rating_count, new_rating_ave,\n",
    "                      new_peptisida, new_pertaniansegar, new_irigasi, new_olahanpertanian,\n",
    "                      new_teknologipertanian, new_rumahkaca, new_pengemasanlogistik,\n",
    "                      new_bibitdanbenih, new_pupuknutrisi, new_alatmesin]])"
   ]
  },
  {
   "cell_type": "code",
   "execution_count": null,
   "metadata": {
    "colab": {
     "base_uri": "https://localhost:8080/"
    },
    "id": "lRU1VCVqHWki",
    "outputId": "0a939dfa-dce8-4089-c689-a3a81c5f00bd"
   },
   "outputs": [
    {
     "name": "stdout",
     "output_type": "stream",
     "text": [
      "Duplicate products found in item_vecs!\n",
      "5466/5466 [==============================] - 9s 2ms/step\n"
     ]
    }
   ],
   "source": [
    "def gen_user_vecs(user_vec, num_items):\n",
    "    \"\"\" given a user vector return:\n",
    "        user predict maxtrix to match the size of item_vecs \"\"\"\n",
    "    user_vecs = np.tile(user_vec, (num_items, 1))\n",
    "    return user_vecs\n",
    "\n",
    "# generate and replicate the user vector to match the number movies in the data set.\n",
    "user_vecs = gen_user_vecs(user_vec,len(item_vecs))\n",
    "\n",
    "# Check for duplicates in item_vecs\n",
    "unique_items = np.unique(item_vecs, axis=0)\n",
    "if len(unique_items) < len(item_vecs):\n",
    "    print(\"Duplicate products found in item_vecs!\")\n",
    "\n",
    "# scale our user and item vectors\n",
    "suser_vecs = scalerUser.transform(user_vecs)\n",
    "sitem_vecs = scalerItem.transform(item_vecs)\n",
    "\n",
    "# make a prediction\n",
    "y_p = model.predict([suser_vecs[:, u_s:], sitem_vecs[:, i_s:]])\n",
    "\n",
    "# unscale y prediction\n",
    "y_pu = scalerTarget.inverse_transform(y_p)\n",
    "\n",
    "# sort the results, highest prediction first\n",
    "sorted_index = np.argsort(-y_pu,axis=0).reshape(-1).tolist()  #negate to get largest rating first\n",
    "sorted_ypu   = y_pu[sorted_index]\n",
    "sorted_items = item_vecs[sorted_index]  #using unscaled vectors for display\n"
   ]
  },
  {
   "cell_type": "code",
   "execution_count": null,
   "metadata": {
    "id": "_IhbRa8NHa6V"
   },
   "outputs": [],
   "source": [
    "def print_pred_movies(y_p, item, movie_dict, maxcount=11):\n",
    "    \"\"\" print results of prediction of a new user. inputs are expected to be in\n",
    "        sorted order, unscaled. \"\"\"\n",
    "    count = 0\n",
    "    disp = [[\"y_p\", \"productid\", \"ratingave\", \"productname\", \"category\"]]\n",
    "\n",
    "    for i in range(0, y_p.shape[0]):\n",
    "        if count == maxcount:\n",
    "            break\n",
    "        count += 1\n",
    "        movie_id = item[i, 0].astype(int)\n",
    "        disp.append([np.around(y_p[i, 0], 1), item[i, 0].astype(int), np.around(item[i, 2].astype(float), 1),\n",
    "                     movie_dict[movie_id]['productname'], movie_dict[movie_id]['category']])\n",
    "\n",
    "    table = tabulate.tabulate(disp, tablefmt='html', headers=\"firstrow\")\n",
    "    return table"
   ]
  },
  {
   "cell_type": "code",
   "execution_count": null,
   "metadata": {
    "colab": {
     "base_uri": "https://localhost:8080/",
     "height": 105
    },
    "id": "Gt6lfu_rIgsn",
    "outputId": "d0b37e55-6445-4f4d-c6ea-4ed863f175a2"
   },
   "outputs": [
    {
     "data": {
      "text/html": [
       "<table>\n",
       "<thead>\n",
       "<tr><th style=\"text-align: right;\">  y_p</th><th style=\"text-align: right;\">  productid</th><th style=\"text-align: right;\">  ratingave</th><th>productname                                                         </th><th>category               </th></tr>\n",
       "</thead>\n",
       "<tbody>\n",
       "<tr><td style=\"text-align: right;\">    5</td><td style=\"text-align: right;\">         55</td><td style=\"text-align: right;\">          0</td><td>Minyak Kelapa Ikan Dorang Spesial 4 pcs x 450ml (Total 1,8L 1800 ml)</td><td>Produk Olahan Pertanian</td></tr>\n",
       "<tr><td style=\"text-align: right;\">    5</td><td style=\"text-align: right;\">         55</td><td style=\"text-align: right;\">          0</td><td>Minyak Kelapa Ikan Dorang Spesial 4 pcs x 450ml (Total 1,8L 1800 ml)</td><td>Produk Olahan Pertanian</td></tr>\n",
       "<tr><td style=\"text-align: right;\">    5</td><td style=\"text-align: right;\">         55</td><td style=\"text-align: right;\">          0</td><td>Minyak Kelapa Ikan Dorang Spesial 4 pcs x 450ml (Total 1,8L 1800 ml)</td><td>Produk Olahan Pertanian</td></tr>\n",
       "<tr><td style=\"text-align: right;\">    5</td><td style=\"text-align: right;\">         55</td><td style=\"text-align: right;\">          0</td><td>Minyak Kelapa Ikan Dorang Spesial 4 pcs x 450ml (Total 1,8L 1800 ml)</td><td>Produk Olahan Pertanian</td></tr>\n",
       "<tr><td style=\"text-align: right;\">    5</td><td style=\"text-align: right;\">         55</td><td style=\"text-align: right;\">          0</td><td>Minyak Kelapa Ikan Dorang Spesial 4 pcs x 450ml (Total 1,8L 1800 ml)</td><td>Produk Olahan Pertanian</td></tr>\n",
       "<tr><td style=\"text-align: right;\">    5</td><td style=\"text-align: right;\">         55</td><td style=\"text-align: right;\">          0</td><td>Minyak Kelapa Ikan Dorang Spesial 4 pcs x 450ml (Total 1,8L 1800 ml)</td><td>Produk Olahan Pertanian</td></tr>\n",
       "<tr><td style=\"text-align: right;\">    5</td><td style=\"text-align: right;\">         55</td><td style=\"text-align: right;\">          0</td><td>Minyak Kelapa Ikan Dorang Spesial 4 pcs x 450ml (Total 1,8L 1800 ml)</td><td>Produk Olahan Pertanian</td></tr>\n",
       "<tr><td style=\"text-align: right;\">    5</td><td style=\"text-align: right;\">         55</td><td style=\"text-align: right;\">          0</td><td>Minyak Kelapa Ikan Dorang Spesial 4 pcs x 450ml (Total 1,8L 1800 ml)</td><td>Produk Olahan Pertanian</td></tr>\n",
       "<tr><td style=\"text-align: right;\">    5</td><td style=\"text-align: right;\">         55</td><td style=\"text-align: right;\">          0</td><td>Minyak Kelapa Ikan Dorang Spesial 4 pcs x 450ml (Total 1,8L 1800 ml)</td><td>Produk Olahan Pertanian</td></tr>\n",
       "<tr><td style=\"text-align: right;\">    5</td><td style=\"text-align: right;\">         55</td><td style=\"text-align: right;\">          0</td><td>Minyak Kelapa Ikan Dorang Spesial 4 pcs x 450ml (Total 1,8L 1800 ml)</td><td>Produk Olahan Pertanian</td></tr>\n",
       "<tr><td style=\"text-align: right;\">    5</td><td style=\"text-align: right;\">         55</td><td style=\"text-align: right;\">          0</td><td>Minyak Kelapa Ikan Dorang Spesial 4 pcs x 450ml (Total 1,8L 1800 ml)</td><td>Produk Olahan Pertanian</td></tr>\n",
       "</tbody>\n",
       "</table>"
      ],
      "text/plain": [
       "'<table>\\n<thead>\\n<tr><th style=\"text-align: right;\">  y_p</th><th style=\"text-align: right;\">  productid</th><th style=\"text-align: right;\">  ratingave</th><th>productname                                                         </th><th>category               </th></tr>\\n</thead>\\n<tbody>\\n<tr><td style=\"text-align: right;\">    5</td><td style=\"text-align: right;\">         55</td><td style=\"text-align: right;\">          0</td><td>Minyak Kelapa Ikan Dorang Spesial 4 pcs x 450ml (Total 1,8L 1800 ml)</td><td>Produk Olahan Pertanian</td></tr>\\n<tr><td style=\"text-align: right;\">    5</td><td style=\"text-align: right;\">         55</td><td style=\"text-align: right;\">          0</td><td>Minyak Kelapa Ikan Dorang Spesial 4 pcs x 450ml (Total 1,8L 1800 ml)</td><td>Produk Olahan Pertanian</td></tr>\\n<tr><td style=\"text-align: right;\">    5</td><td style=\"text-align: right;\">         55</td><td style=\"text-align: right;\">          0</td><td>Minyak Kelapa Ikan Dorang Spesial 4 pcs x 450ml (Total 1,8L 1800 ml)</td><td>Produk Olahan Pertanian</td></tr>\\n<tr><td style=\"text-align: right;\">    5</td><td style=\"text-align: right;\">         55</td><td style=\"text-align: right;\">          0</td><td>Minyak Kelapa Ikan Dorang Spesial 4 pcs x 450ml (Total 1,8L 1800 ml)</td><td>Produk Olahan Pertanian</td></tr>\\n<tr><td style=\"text-align: right;\">    5</td><td style=\"text-align: right;\">         55</td><td style=\"text-align: right;\">          0</td><td>Minyak Kelapa Ikan Dorang Spesial 4 pcs x 450ml (Total 1,8L 1800 ml)</td><td>Produk Olahan Pertanian</td></tr>\\n<tr><td style=\"text-align: right;\">    5</td><td style=\"text-align: right;\">         55</td><td style=\"text-align: right;\">          0</td><td>Minyak Kelapa Ikan Dorang Spesial 4 pcs x 450ml (Total 1,8L 1800 ml)</td><td>Produk Olahan Pertanian</td></tr>\\n<tr><td style=\"text-align: right;\">    5</td><td style=\"text-align: right;\">         55</td><td style=\"text-align: right;\">          0</td><td>Minyak Kelapa Ikan Dorang Spesial 4 pcs x 450ml (Total 1,8L 1800 ml)</td><td>Produk Olahan Pertanian</td></tr>\\n<tr><td style=\"text-align: right;\">    5</td><td style=\"text-align: right;\">         55</td><td style=\"text-align: right;\">          0</td><td>Minyak Kelapa Ikan Dorang Spesial 4 pcs x 450ml (Total 1,8L 1800 ml)</td><td>Produk Olahan Pertanian</td></tr>\\n<tr><td style=\"text-align: right;\">    5</td><td style=\"text-align: right;\">         55</td><td style=\"text-align: right;\">          0</td><td>Minyak Kelapa Ikan Dorang Spesial 4 pcs x 450ml (Total 1,8L 1800 ml)</td><td>Produk Olahan Pertanian</td></tr>\\n<tr><td style=\"text-align: right;\">    5</td><td style=\"text-align: right;\">         55</td><td style=\"text-align: right;\">          0</td><td>Minyak Kelapa Ikan Dorang Spesial 4 pcs x 450ml (Total 1,8L 1800 ml)</td><td>Produk Olahan Pertanian</td></tr>\\n<tr><td style=\"text-align: right;\">    5</td><td style=\"text-align: right;\">         55</td><td style=\"text-align: right;\">          0</td><td>Minyak Kelapa Ikan Dorang Spesial 4 pcs x 450ml (Total 1,8L 1800 ml)</td><td>Produk Olahan Pertanian</td></tr>\\n</tbody>\\n</table>'"
      ]
     },
     "execution_count": 56,
     "metadata": {},
     "output_type": "execute_result"
    }
   ],
   "source": [
    "print_pred_movies(sorted_ypu, sorted_items, movie_dict, maxcount = 11)"
   ]
  },
  {
   "cell_type": "code",
   "execution_count": null,
   "metadata": {
    "id": "gW5sZrvbJJz6"
   },
   "outputs": [],
   "source": [
    "def gen_user_vecs(user_vec, num_items):\n",
    "    \"\"\" given a user vector return:\n",
    "        user predict maxtrix to match the size of item_vecs \"\"\"\n",
    "    user_vecs = np.tile(user_vec, (num_items, 1))\n",
    "    return user_vecs"
   ]
  },
  {
   "cell_type": "code",
   "execution_count": null,
   "metadata": {
    "id": "R4tk8j1OMMxP"
   },
   "outputs": [],
   "source": [
    "# predict on  everything, filter on print/use\n",
    "def predict_uservec(user_vecs, item_vecs, model, u_s, i_s, scaler):\n",
    "    \"\"\" given a scaled user vector, does the prediction on all movies in scaled print_item_vecs returns\n",
    "        an array predictions sorted by predicted rating,\n",
    "        arrays of user and item, sorted by predicted rating sorting index\n",
    "    \"\"\"\n",
    "    y_p = model.predict([user_vecs[:, u_s:], item_vecs[:, i_s:]])\n",
    "    y_pu = scaler.inverse_transform(y_p)\n",
    "\n",
    "    if np.any(y_pu < 0):\n",
    "        print(\"Error, expected all positive predictions\")\n",
    "    sorted_index = np.argsort(-y_pu, axis=0).reshape(-1).tolist()  #negate to get largest rating first\n",
    "    sorted_ypu   = y_pu[sorted_index]\n",
    "    sorted_items = item_vecs[sorted_index]\n",
    "    sorted_user  = user_vecs[sorted_index]\n",
    "    return(sorted_index, sorted_ypu, sorted_items, sorted_user)"
   ]
  },
  {
   "cell_type": "code",
   "execution_count": null,
   "metadata": {
    "id": "uID_uRrOMOfc"
   },
   "outputs": [],
   "source": [
    "def get_user_vecs(user_id, user_train, item_vecs, user_to_genre):\n",
    "    \"\"\" given a user_id, return:\n",
    "        user train/predict matrix to match the size of item_vecs\n",
    "        y vector with ratings for all rated movies and 0 for others of size item_vecs \"\"\"\n",
    "\n",
    "    if not user_id in user_to_genre:\n",
    "        print(\"error: unknown user id\")\n",
    "        return None\n",
    "    else:\n",
    "        user_vec_found = False\n",
    "        for i in range(len(user_train)):\n",
    "            if user_train[i, 0] == user_id:\n",
    "                user_vec = user_train[i]\n",
    "                user_vec_found = True\n",
    "                break\n",
    "        if not user_vec_found:\n",
    "            print(\"error in get_user_vecs, did not find uid in user_train\")\n",
    "        num_items = len(item_vecs)\n",
    "        user_vecs = np.tile(user_vec, (num_items, 1))\n",
    "\n",
    "        y = np.zeros(num_items)\n",
    "        for i in range(num_items):  # walk through movies in item_vecs and get the movies, see if user has rated them\n",
    "            movie_id = item_vecs[i, 0]\n",
    "            if movie_id in user_to_genre[user_id]['movies']:\n",
    "                rating = user_to_genre[user_id]['movies'][movie_id]\n",
    "            else:\n",
    "                rating = 0\n",
    "            y[i] = rating\n",
    "    return(user_vecs, y)"
   ]
  },
  {
   "cell_type": "code",
   "execution_count": null,
   "metadata": {
    "colab": {
     "base_uri": "https://localhost:8080/"
    },
    "id": "aBfcBv__MQlS",
    "outputId": "12ac4ce7-7332-4792-f840-13a2b57aad28"
   },
   "outputs": [
    {
     "ename": "FileNotFoundError",
     "evalue": "[Errno 2] No such file or directory: 'user_to_genre.pickle'",
     "output_type": "error",
     "traceback": [
      "\u001b[1;31m---------------------------------------------------------------------------\u001b[0m",
      "\u001b[1;31mFileNotFoundError\u001b[0m                         Traceback (most recent call last)",
      "Cell \u001b[1;32mIn[25], line 2\u001b[0m\n\u001b[0;32m      1\u001b[0m \u001b[38;5;66;03m# Load user_to_genre from a JSON file (if applicable)\u001b[39;00m\n\u001b[1;32m----> 2\u001b[0m \u001b[38;5;28;01mwith\u001b[39;00m \u001b[38;5;28;43mopen\u001b[39;49m\u001b[43m(\u001b[49m\u001b[38;5;124;43m'\u001b[39;49m\u001b[38;5;124;43muser_to_genre.pickle\u001b[39;49m\u001b[38;5;124;43m'\u001b[39;49m\u001b[43m,\u001b[49m\u001b[43m \u001b[49m\u001b[38;5;124;43m'\u001b[39;49m\u001b[38;5;124;43mrb\u001b[39;49m\u001b[38;5;124;43m'\u001b[39;49m\u001b[43m)\u001b[49m \u001b[38;5;28;01mas\u001b[39;00m f:  \u001b[38;5;66;03m# Changed 'r' to 'rb' to open in binary mode\u001b[39;00m\n\u001b[0;32m      3\u001b[0m     user_to_genre \u001b[38;5;241m=\u001b[39m pickle\u001b[38;5;241m.\u001b[39mload(f)\n\u001b[0;32m      5\u001b[0m uid \u001b[38;5;241m=\u001b[39m \u001b[38;5;241m2\u001b[39m\n",
      "File \u001b[1;32m~\\AppData\\Roaming\\Python\\Python310\\site-packages\\IPython\\core\\interactiveshell.py:286\u001b[0m, in \u001b[0;36m_modified_open\u001b[1;34m(file, *args, **kwargs)\u001b[0m\n\u001b[0;32m    279\u001b[0m \u001b[38;5;28;01mif\u001b[39;00m file \u001b[38;5;129;01min\u001b[39;00m {\u001b[38;5;241m0\u001b[39m, \u001b[38;5;241m1\u001b[39m, \u001b[38;5;241m2\u001b[39m}:\n\u001b[0;32m    280\u001b[0m     \u001b[38;5;28;01mraise\u001b[39;00m \u001b[38;5;167;01mValueError\u001b[39;00m(\n\u001b[0;32m    281\u001b[0m         \u001b[38;5;124mf\u001b[39m\u001b[38;5;124m\"\u001b[39m\u001b[38;5;124mIPython won\u001b[39m\u001b[38;5;124m'\u001b[39m\u001b[38;5;124mt let you open fd=\u001b[39m\u001b[38;5;132;01m{\u001b[39;00mfile\u001b[38;5;132;01m}\u001b[39;00m\u001b[38;5;124m by default \u001b[39m\u001b[38;5;124m\"\u001b[39m\n\u001b[0;32m    282\u001b[0m         \u001b[38;5;124m\"\u001b[39m\u001b[38;5;124mas it is likely to crash IPython. If you know what you are doing, \u001b[39m\u001b[38;5;124m\"\u001b[39m\n\u001b[0;32m    283\u001b[0m         \u001b[38;5;124m\"\u001b[39m\u001b[38;5;124myou can use builtins\u001b[39m\u001b[38;5;124m'\u001b[39m\u001b[38;5;124m open.\u001b[39m\u001b[38;5;124m\"\u001b[39m\n\u001b[0;32m    284\u001b[0m     )\n\u001b[1;32m--> 286\u001b[0m \u001b[38;5;28;01mreturn\u001b[39;00m io_open(file, \u001b[38;5;241m*\u001b[39margs, \u001b[38;5;241m*\u001b[39m\u001b[38;5;241m*\u001b[39mkwargs)\n",
      "\u001b[1;31mFileNotFoundError\u001b[0m: [Errno 2] No such file or directory: 'user_to_genre.pickle'"
     ]
    }
   ],
   "source": [
    "# Load user_to_genre from a JSON file (if applicable)\n",
    "with open('user_to_genre.pickle', 'rb') as f:  # Changed 'r' to 'rb' to open in binary mode\n",
    "    user_to_genre = pickle.load(f)\n",
    "\n",
    "uid = 2\n",
    "# form a set of user vectors. This is the same vector, transformed and repeated.\n",
    "user_vecs, y_vecs = get_user_vecs(uid, user_train_unscaled, item_vecs, user_to_genre)\n",
    "\n",
    "# scale our user and item vectors\n",
    "suser_vecs = scalerUser.transform(user_vecs)\n",
    "sitem_vecs = scalerItem.transform(item_vecs)\n",
    "\n",
    "# make a prediction\n",
    "y_p = model.predict([suser_vecs[:, u_s:], sitem_vecs[:, i_s:]])\n",
    "\n",
    "# unscale y prediction\n",
    "y_pu = scalerTarget.inverse_transform(y_p)\n",
    "\n",
    "# sort the results, highest prediction first\n",
    "sorted_index = np.argsort(-y_pu,axis=0).reshape(-1).tolist()  #negate to get largest rating first\n",
    "sorted_ypu   = y_pu[sorted_index]\n",
    "sorted_items = item_vecs[sorted_index]  #using unscaled vectors for display\n",
    "sorted_user  = user_vecs[sorted_index]\n",
    "sorted_y     = y_vecs[sorted_index]\n",
    "\n"
   ]
  },
  {
   "cell_type": "code",
   "execution_count": null,
   "metadata": {
    "id": "G3cCo4YOPh2m"
   },
   "outputs": [],
   "source": [
    "def print_existing_user(y_p, y, user, items, ivs, uvs, movie_dict, maxcount=10):\n",
    "    \"\"\" print results of prediction for a user who was in the database.\n",
    "        Inputs are expected to be in sorted order, unscaled.\n",
    "    \"\"\"\n",
    "    count = 0\n",
    "    disp = [[\"y_p\", \"y\", \"user\", \"user genre ave\", \"movie rating ave\", \"movie id\", \"title\", \"genres\"]]\n",
    "    count = 0\n",
    "    for i in range(0, y.shape[0]):\n",
    "        if y[i, 0] != 0:  # zero means not rated\n",
    "            if count == maxcount:\n",
    "                break\n",
    "            count += 1\n",
    "            movie_id = items[i, 0].astype(int)\n",
    "\n",
    "            offsets = np.nonzero(items[i, ivs:] == 1)[0]\n",
    "            genre_ratings = user[i, uvs + offsets]\n",
    "            disp.append([y_p[i, 0], y[i, 0],\n",
    "                         user[i, 0].astype(int),      # userid\n",
    "                         np.array2string(genre_ratings,\n",
    "                                         formatter={'float_kind':lambda x: \"%.1f\" % x},\n",
    "                                         separator=',', suppress_small=True),\n",
    "                         items[i, 2].astype(float),    # movie average rating\n",
    "                         movie_id,\n",
    "                         movie_dict[movie_id]['title'],\n",
    "                         movie_dict[movie_id]['genres']])\n",
    "\n",
    "    table = tabulate.tabulate(disp, tablefmt='html', headers=\"firstrow\", floatfmt=[\".1f\", \".1f\", \".0f\", \".2f\", \".1f\"])\n",
    "    return table"
   ]
  },
  {
   "cell_type": "code",
   "execution_count": null,
   "metadata": {
    "colab": {
     "base_uri": "https://localhost:8080/",
     "height": 36
    },
    "id": "szkeDVX_MURN",
    "outputId": "dd97a1f5-5713-49db-b6b7-92e4c644469a"
   },
   "outputs": [
    {
     "data": {
      "application/vnd.google.colaboratory.intrinsic+json": {
       "type": "string"
      },
      "text/html": [
       "<table>\n",
       "<thead>\n",
       "<tr></tr>\n",
       "</thead>\n",
       "<tbody>\n",
       "</tbody>\n",
       "</table>"
      ],
      "text/plain": [
       "'<table>\\n<thead>\\n<tr></tr>\\n</thead>\\n<tbody>\\n</tbody>\\n</table>'"
      ]
     },
     "execution_count": 28,
     "metadata": {},
     "output_type": "execute_result"
    }
   ],
   "source": [
    "#print sorted predictions for movies rated by the user\n",
    "print_existing_user(sorted_ypu, sorted_y.reshape(-1,1), sorted_user, sorted_items, ivs, uvs, movie_dict, maxcount = 50)"
   ]
  },
  {
   "cell_type": "code",
   "execution_count": null,
   "metadata": {
    "id": "Pu01-loZPtf4"
   },
   "outputs": [],
   "source": [
    "# GRADED_FUNCTION: sq_dist\n",
    "# UNQ_C2\n",
    "def sq_dist(a,b):\n",
    "    \"\"\"\n",
    "    Returns the squared distance between two vectors\n",
    "    Args:\n",
    "      a (ndarray (n,)): vector with n features\n",
    "      b (ndarray (n,)): vector with n features\n",
    "    Returns:\n",
    "      d (float) : distance\n",
    "    \"\"\"\n",
    "    ### START CODE HERE ###\n",
    "    d = np.sum((a - b) ** 2)\n",
    "    ### END CODE HERE ###\n",
    "    return d"
   ]
  },
  {
   "cell_type": "code",
   "execution_count": null,
   "metadata": {
    "colab": {
     "base_uri": "https://localhost:8080/"
    },
    "id": "70DNcQMMP4pO",
    "outputId": "a55c103f-8bdb-4cdc-83c4-5e3509e09625"
   },
   "outputs": [
    {
     "name": "stdout",
     "output_type": "stream",
     "text": [
      "squared distance between a1 and b1: 0.000\n",
      "squared distance between a2 and b2: 0.030\n",
      "squared distance between a3 and b3: 2.000\n"
     ]
    }
   ],
   "source": [
    "a1 = np.array([1.0, 2.0, 3.0]); b1 = np.array([1.0, 2.0, 3.0])\n",
    "a2 = np.array([1.1, 2.1, 3.1]); b2 = np.array([1.0, 2.0, 3.0])\n",
    "a3 = np.array([0, 1, 0]);       b3 = np.array([1, 0, 0])\n",
    "print(f\"squared distance between a1 and b1: {sq_dist(a1, b1):0.3f}\")\n",
    "print(f\"squared distance between a2 and b2: {sq_dist(a2, b2):0.3f}\")\n",
    "print(f\"squared distance between a3 and b3: {sq_dist(a3, b3):0.3f}\")"
   ]
  },
  {
   "cell_type": "code",
   "execution_count": null,
   "metadata": {
    "colab": {
     "base_uri": "https://localhost:8080/",
     "height": 228
    },
    "id": "9VBKsRfgP7JP",
    "outputId": "50e8227c-f0b3-4f52-921e-c6521bb4fc4e"
   },
   "outputs": [
    {
     "data": {
      "text/html": [
       "<pre style=\"white-space:pre;overflow-x:auto;line-height:normal;font-family:Menlo,'DejaVu Sans Mono',consolas,'Courier New',monospace\"><span style=\"font-weight: bold\">Model: \"functional_3\"</span>\n",
       "</pre>\n"
      ],
      "text/plain": [
       "\u001b[1mModel: \"functional_3\"\u001b[0m\n"
      ]
     },
     "metadata": {},
     "output_type": "display_data"
    },
    {
     "data": {
      "text/html": [
       "<pre style=\"white-space:pre;overflow-x:auto;line-height:normal;font-family:Menlo,'DejaVu Sans Mono',consolas,'Courier New',monospace\">┏━━━━━━━━━━━━━━━━━━━━━━━━━━━━━━━━━━━━━━┳━━━━━━━━━━━━━━━━━━━━━━━━━━━━━┳━━━━━━━━━━━━━━━━━┓\n",
       "┃<span style=\"font-weight: bold\"> Layer (type)                         </span>┃<span style=\"font-weight: bold\"> Output Shape                </span>┃<span style=\"font-weight: bold\">         Param # </span>┃\n",
       "┡━━━━━━━━━━━━━━━━━━━━━━━━━━━━━━━━━━━━━━╇━━━━━━━━━━━━━━━━━━━━━━━━━━━━━╇━━━━━━━━━━━━━━━━━┩\n",
       "│ input_layer_4 (<span style=\"color: #0087ff; text-decoration-color: #0087ff\">InputLayer</span>)           │ (<span style=\"color: #00d7ff; text-decoration-color: #00d7ff\">None</span>, <span style=\"color: #00af00; text-decoration-color: #00af00\">11</span>)                  │               <span style=\"color: #00af00; text-decoration-color: #00af00\">0</span> │\n",
       "├──────────────────────────────────────┼─────────────────────────────┼─────────────────┤\n",
       "│ sequential_1 (<span style=\"color: #0087ff; text-decoration-color: #0087ff\">Sequential</span>)            │ (<span style=\"color: #00d7ff; text-decoration-color: #00d7ff\">None</span>, <span style=\"color: #00af00; text-decoration-color: #00af00\">32</span>)                  │          <span style=\"color: #00af00; text-decoration-color: #00af00\">40,096</span> │\n",
       "├──────────────────────────────────────┼─────────────────────────────┼─────────────────┤\n",
       "│ normalize_layer (<span style=\"color: #0087ff; text-decoration-color: #0087ff\">NormalizeLayer</span>)     │ (<span style=\"color: #00d7ff; text-decoration-color: #00d7ff\">None</span>, <span style=\"color: #00af00; text-decoration-color: #00af00\">32</span>)                  │               <span style=\"color: #00af00; text-decoration-color: #00af00\">0</span> │\n",
       "└──────────────────────────────────────┴─────────────────────────────┴─────────────────┘\n",
       "</pre>\n"
      ],
      "text/plain": [
       "┏━━━━━━━━━━━━━━━━━━━━━━━━━━━━━━━━━━━━━━┳━━━━━━━━━━━━━━━━━━━━━━━━━━━━━┳━━━━━━━━━━━━━━━━━┓\n",
       "┃\u001b[1m \u001b[0m\u001b[1mLayer (type)                        \u001b[0m\u001b[1m \u001b[0m┃\u001b[1m \u001b[0m\u001b[1mOutput Shape               \u001b[0m\u001b[1m \u001b[0m┃\u001b[1m \u001b[0m\u001b[1m        Param #\u001b[0m\u001b[1m \u001b[0m┃\n",
       "┡━━━━━━━━━━━━━━━━━━━━━━━━━━━━━━━━━━━━━━╇━━━━━━━━━━━━━━━━━━━━━━━━━━━━━╇━━━━━━━━━━━━━━━━━┩\n",
       "│ input_layer_4 (\u001b[38;5;33mInputLayer\u001b[0m)           │ (\u001b[38;5;45mNone\u001b[0m, \u001b[38;5;34m11\u001b[0m)                  │               \u001b[38;5;34m0\u001b[0m │\n",
       "├──────────────────────────────────────┼─────────────────────────────┼─────────────────┤\n",
       "│ sequential_1 (\u001b[38;5;33mSequential\u001b[0m)            │ (\u001b[38;5;45mNone\u001b[0m, \u001b[38;5;34m32\u001b[0m)                  │          \u001b[38;5;34m40,096\u001b[0m │\n",
       "├──────────────────────────────────────┼─────────────────────────────┼─────────────────┤\n",
       "│ normalize_layer (\u001b[38;5;33mNormalizeLayer\u001b[0m)     │ (\u001b[38;5;45mNone\u001b[0m, \u001b[38;5;34m32\u001b[0m)                  │               \u001b[38;5;34m0\u001b[0m │\n",
       "└──────────────────────────────────────┴─────────────────────────────┴─────────────────┘\n"
      ]
     },
     "metadata": {},
     "output_type": "display_data"
    },
    {
     "data": {
      "text/html": [
       "<pre style=\"white-space:pre;overflow-x:auto;line-height:normal;font-family:Menlo,'DejaVu Sans Mono',consolas,'Courier New',monospace\"><span style=\"font-weight: bold\"> Total params: </span><span style=\"color: #00af00; text-decoration-color: #00af00\">40,096</span> (156.62 KB)\n",
       "</pre>\n"
      ],
      "text/plain": [
       "\u001b[1m Total params: \u001b[0m\u001b[38;5;34m40,096\u001b[0m (156.62 KB)\n"
      ]
     },
     "metadata": {},
     "output_type": "display_data"
    },
    {
     "data": {
      "text/html": [
       "<pre style=\"white-space:pre;overflow-x:auto;line-height:normal;font-family:Menlo,'DejaVu Sans Mono',consolas,'Courier New',monospace\"><span style=\"font-weight: bold\"> Trainable params: </span><span style=\"color: #00af00; text-decoration-color: #00af00\">40,096</span> (156.62 KB)\n",
       "</pre>\n"
      ],
      "text/plain": [
       "\u001b[1m Trainable params: \u001b[0m\u001b[38;5;34m40,096\u001b[0m (156.62 KB)\n"
      ]
     },
     "metadata": {},
     "output_type": "display_data"
    },
    {
     "data": {
      "text/html": [
       "<pre style=\"white-space:pre;overflow-x:auto;line-height:normal;font-family:Menlo,'DejaVu Sans Mono',consolas,'Courier New',monospace\"><span style=\"font-weight: bold\"> Non-trainable params: </span><span style=\"color: #00af00; text-decoration-color: #00af00\">0</span> (0.00 B)\n",
       "</pre>\n"
      ],
      "text/plain": [
       "\u001b[1m Non-trainable params: \u001b[0m\u001b[38;5;34m0\u001b[0m (0.00 B)\n"
      ]
     },
     "metadata": {},
     "output_type": "display_data"
    }
   ],
   "source": [
    "class NormalizeLayer(tf.keras.layers.Layer):\n",
    "    def __init__(self, axis=1, **kwargs):\n",
    "        super(NormalizeLayer, self).__init__(**kwargs)\n",
    "        self.axis = axis\n",
    "\n",
    "    def call(self, inputs):\n",
    "        return tf.linalg.l2_normalize(inputs, axis=self.axis)\n",
    "\n",
    "input_item_m = tf.keras.layers.Input(shape=(num_item_features,))    # input layer\n",
    "vm_m = item_NN(input_item_m)                                       # use the trained item_NN\n",
    "vm_m = NormalizeLayer(axis=1)(vm_m)                                # incorporate normalization as was done in the original model\n",
    "model_m = tf.keras.Model(input_item_m, vm_m)\n",
    "model_m.summary()"
   ]
  },
  {
   "cell_type": "code",
   "execution_count": null,
   "metadata": {
    "colab": {
     "base_uri": "https://localhost:8080/"
    },
    "id": "AIb8eEwkP9sC",
    "outputId": "1ad066cb-7ff8-428a-de91-41667207e560"
   },
   "outputs": [
    {
     "name": "stdout",
     "output_type": "stream",
     "text": [
      "\u001b[1m5466/5466\u001b[0m \u001b[32m━━━━━━━━━━━━━━━━━━━━\u001b[0m\u001b[37m\u001b[0m \u001b[1m10s\u001b[0m 2ms/step\n",
      "size of all predicted movie feature vectors: (174896, 32)\n"
     ]
    }
   ],
   "source": [
    "scaled_item_vecs = scalerItem.transform(item_vecs)\n",
    "vms = model_m.predict(scaled_item_vecs[:,i_s:])\n",
    "print(f\"size of all predicted movie feature vectors: {vms.shape}\")"
   ]
  },
  {
   "cell_type": "code",
   "execution_count": null,
   "metadata": {
    "id": "CfYY6YTkQfdo"
   },
   "outputs": [],
   "source": [
    "count = 50  # number of movies to display\n",
    "dim = len(vms)\n",
    "dist = np.zeros((dim,dim))\n",
    "\n",
    "for i in range(dim):\n",
    "    for j in range(dim):\n",
    "        dist[i,j] = sq_dist(vms[i, :], vms[j, :])\n",
    "\n",
    "m_dist = ma.masked_array(dist, mask=np.identity(dist.shape[0]))  # mask the diagonal\n",
    "\n",
    "disp = [[\"productname1\", \"category\", \"productname2\", \"category\"]]\n",
    "for i in range(count):\n",
    "    min_idx = np.argmin(m_dist[i])\n",
    "    movie1_id = int(item_vecs[i,0])\n",
    "    movie2_id = int(item_vecs[min_idx,0])\n",
    "    disp.append( [movie_dict[movie1_id]['title'], movie_dict[movie1_id]['genres'],\n",
    "                  movie_dict[movie2_id]['title'], movie_dict[movie1_id]['genres']]\n",
    "               )\n",
    "table = tabulate.tabulate(disp, tablefmt='html', headers=\"firstrow\")\n",
    "table"
   ]
  },
  {
   "cell_type": "code",
   "execution_count": null,
   "metadata": {
    "id": "xI8-QZgObgqz"
   },
   "outputs": [],
   "source": []
  },
  {
   "cell_type": "code",
   "execution_count": null,
   "metadata": {
    "id": "E5GY2emNQl_7"
   },
   "outputs": [],
   "source": []
  }
 ],
 "metadata": {
  "colab": {
   "provenance": []
  },
  "kernelspec": {
   "display_name": "py310",
   "language": "python",
   "name": "python3"
  },
  "language_info": {
   "codemirror_mode": {
    "name": "ipython",
    "version": 3
   },
   "file_extension": ".py",
   "mimetype": "text/x-python",
   "name": "python",
   "nbconvert_exporter": "python",
   "pygments_lexer": "ipython3",
   "version": "3.10.15"
  }
 },
 "nbformat": 4,
 "nbformat_minor": 0
}
